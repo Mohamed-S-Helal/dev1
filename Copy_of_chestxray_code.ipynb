{
  "cells": [
    {
      "cell_type": "markdown",
      "metadata": {
        "id": "view-in-github",
        "colab_type": "text"
      },
      "source": [
        "<a href=\"https://colab.research.google.com/github/Mohamed-S-Helal/dev1/blob/main/Copy_of_chestxray_code.ipynb\" target=\"_parent\"><img src=\"https://colab.research.google.com/assets/colab-badge.svg\" alt=\"Open In Colab\"/></a>"
      ]
    },
    {
      "cell_type": "code",
      "execution_count": 1,
      "metadata": {
        "colab": {
          "base_uri": "https://localhost:8080/"
        },
        "id": "2mGJ3zIGHCM7",
        "outputId": "611578a3-2b8f-4b5d-c728-25756c0809b9"
      },
      "outputs": [
        {
          "output_type": "stream",
          "name": "stdout",
          "text": [
            "Mounted at /content/drive\n"
          ]
        }
      ],
      "source": [
        "# Mounting Google Drive to load data\n",
        "\n",
        "from google.colab import drive  \n",
        "drive.mount('/content/drive')  "
      ]
    },
    {
      "cell_type": "markdown",
      "metadata": {
        "id": "gM0Qump87v3E"
      },
      "source": [
        "# ***pytorch install***\n"
      ]
    },
    {
      "cell_type": "code",
      "execution_count": 2,
      "metadata": {
        "colab": {
          "base_uri": "https://localhost:8080/"
        },
        "id": "Xmr9PO87dSA9",
        "outputId": "19e74112-f4d9-4846-f635-6801ec7690db"
      },
      "outputs": [
        {
          "output_type": "stream",
          "name": "stdout",
          "text": [
            "\u001b[K     |██████████████████████████████▎ | 834.1 MB 1.2 MB/s eta 0:00:39tcmalloc: large alloc 1147494400 bytes == 0x55bc2a16c000 @  0x7f62bd5fa615 0x55bbf0d733bc 0x55bbf0e5418a 0x55bbf0d761cd 0x55bbf0e68b3d 0x55bbf0dea458 0x55bbf0de502f 0x55bbf0d77aba 0x55bbf0dea2c0 0x55bbf0de502f 0x55bbf0d77aba 0x55bbf0de6cd4 0x55bbf0e69986 0x55bbf0de6350 0x55bbf0e69986 0x55bbf0de6350 0x55bbf0e69986 0x55bbf0de6350 0x55bbf0d77f19 0x55bbf0dbba79 0x55bbf0d76b32 0x55bbf0dea1dd 0x55bbf0de502f 0x55bbf0d77aba 0x55bbf0de6cd4 0x55bbf0de502f 0x55bbf0d77aba 0x55bbf0de5eae 0x55bbf0d779da 0x55bbf0de6108 0x55bbf0de502f\n",
            "\u001b[K     |████████████████████████████████| 881.9 MB 20 kB/s \n",
            "\u001b[K     |████████████████████████████████| 23.2 MB 12.6 MB/s \n",
            "\u001b[K     |████████████████████████████████| 2.9 MB 39.3 MB/s \n",
            "\u001b[?25h"
          ]
        }
      ],
      "source": [
        "!pip3 install torch==1.10.0+cu102 torchvision==0.11.1+cu102 torchaudio===0.10.0+cu102 -f https://download.pytorch.org/whl/cu102/torch_stable.html -q"
      ]
    },
    {
      "cell_type": "markdown",
      "metadata": {
        "id": "4Y5EMSvUyP6l"
      },
      "source": [
        "#***Data Downloading***"
      ]
    },
    {
      "cell_type": "code",
      "execution_count": 5,
      "metadata": {
        "id": "yA-bhfb-yRIv",
        "colab": {
          "base_uri": "https://localhost:8080/",
          "height": 390
        },
        "outputId": "e5dce88d-0884-4513-fae8-c430fe761961"
      },
      "outputs": [
        {
          "metadata": {
            "tags": null
          },
          "name": "stdout",
          "output_type": "stream",
          "text": [
            "downloadingimages_01.tar.gz...\n",
            "downloadingimages_02.tar.gz...\n"
          ]
        },
        {
          "output_type": "error",
          "ename": "KeyboardInterrupt",
          "evalue": "ignored",
          "traceback": [
            "\u001b[0;31m---------------------------------------------------------------------------\u001b[0m",
            "\u001b[0;31mKeyboardInterrupt\u001b[0m                         Traceback (most recent call last)",
            "\u001b[0;32m<ipython-input-5-219d03227a95>\u001b[0m in \u001b[0;36m<module>\u001b[0;34m()\u001b[0m\n\u001b[1;32m     23\u001b[0m      \u001b[0mfn\u001b[0m \u001b[0;34m=\u001b[0m \u001b[0;34m'images_%02d.tar.gz'\u001b[0m \u001b[0;34m%\u001b[0m \u001b[0;34m(\u001b[0m\u001b[0midx\u001b[0m\u001b[0;34m+\u001b[0m\u001b[0;36m1\u001b[0m\u001b[0;34m)\u001b[0m\u001b[0;34m\u001b[0m\u001b[0;34m\u001b[0m\u001b[0m\n\u001b[1;32m     24\u001b[0m      \u001b[0mprint\u001b[0m\u001b[0;34m(\u001b[0m\u001b[0;34m'downloading'\u001b[0m\u001b[0;34m+\u001b[0m\u001b[0mfn\u001b[0m\u001b[0;34m+\u001b[0m\u001b[0;34m'...'\u001b[0m\u001b[0;34m)\u001b[0m\u001b[0;34m\u001b[0m\u001b[0;34m\u001b[0m\u001b[0m\n\u001b[0;32m---> 25\u001b[0;31m      \u001b[0murllib\u001b[0m\u001b[0;34m.\u001b[0m\u001b[0mrequest\u001b[0m\u001b[0;34m.\u001b[0m\u001b[0murlretrieve\u001b[0m\u001b[0;34m(\u001b[0m\u001b[0mlink\u001b[0m\u001b[0;34m,\u001b[0m \u001b[0mfn\u001b[0m\u001b[0;34m)\u001b[0m  \u001b[0;31m# download the zip file\u001b[0m\u001b[0;34m\u001b[0m\u001b[0;34m\u001b[0m\u001b[0m\n\u001b[0m\u001b[1;32m     26\u001b[0m \u001b[0;34m\u001b[0m\u001b[0m\n\u001b[1;32m     27\u001b[0m \u001b[0mprint\u001b[0m\u001b[0;34m(\u001b[0m\u001b[0;34m\"Download complete. Please check the checksums\"\u001b[0m\u001b[0;34m)\u001b[0m\u001b[0;34m\u001b[0m\u001b[0;34m\u001b[0m\u001b[0m\n",
            "\u001b[0;32m/usr/lib/python3.7/urllib/request.py\u001b[0m in \u001b[0;36murlretrieve\u001b[0;34m(url, filename, reporthook, data)\u001b[0m\n\u001b[1;32m    278\u001b[0m                     \u001b[0;32mbreak\u001b[0m\u001b[0;34m\u001b[0m\u001b[0;34m\u001b[0m\u001b[0m\n\u001b[1;32m    279\u001b[0m                 \u001b[0mread\u001b[0m \u001b[0;34m+=\u001b[0m \u001b[0mlen\u001b[0m\u001b[0;34m(\u001b[0m\u001b[0mblock\u001b[0m\u001b[0;34m)\u001b[0m\u001b[0;34m\u001b[0m\u001b[0;34m\u001b[0m\u001b[0m\n\u001b[0;32m--> 280\u001b[0;31m                 \u001b[0mtfp\u001b[0m\u001b[0;34m.\u001b[0m\u001b[0mwrite\u001b[0m\u001b[0;34m(\u001b[0m\u001b[0mblock\u001b[0m\u001b[0;34m)\u001b[0m\u001b[0;34m\u001b[0m\u001b[0;34m\u001b[0m\u001b[0m\n\u001b[0m\u001b[1;32m    281\u001b[0m                 \u001b[0mblocknum\u001b[0m \u001b[0;34m+=\u001b[0m \u001b[0;36m1\u001b[0m\u001b[0;34m\u001b[0m\u001b[0;34m\u001b[0m\u001b[0m\n\u001b[1;32m    282\u001b[0m                 \u001b[0;32mif\u001b[0m \u001b[0mreporthook\u001b[0m\u001b[0;34m:\u001b[0m\u001b[0;34m\u001b[0m\u001b[0;34m\u001b[0m\u001b[0m\n",
            "\u001b[0;31mKeyboardInterrupt\u001b[0m: "
          ]
        }
      ],
      "source": [
        "# !/usr/bin/env python3\n",
        "# # Download the 56 zip files in Images_png in batches\n",
        "import urllib.request\n",
        "from tqdm import tqdm\n",
        "\n",
        "# URLs for the zip files\n",
        "links = [\n",
        "   'https://nihcc.box.com/shared/static/vfk49d74nhbxq3nqjg0900w5nvkorp5c.gz',\n",
        "    'https://nihcc.box.com/shared/static/i28rlmbvmfjbl8p2n3ril0pptcmcu9d1.gz',\n",
        "    'https://nihcc.box.com/shared/static/f1t00wrtdk94satdfb9olcolqx20z2jp.gz',\n",
        "\t'https://nihcc.box.com/shared/static/0aowwzs5lhjrceb3qp67ahp0rd1l1etg.gz',\n",
        "    'https://nihcc.box.com/shared/static/v5e3goj22zr6h8tzualxfsqlqaygfbsn.gz',\n",
        "\t'https://nihcc.box.com/shared/static/asi7ikud9jwnkrnkj99jnpfkjdes7l6l.gz',\n",
        "\t'https://nihcc.box.com/shared/static/jn1b4mw4n6lnh74ovmcjb8y48h8xj07n.gz',\n",
        "    'https://nihcc.box.com/shared/static/tvpxmn7qyrgl0w8wfh9kqfjskv6nmm1j.gz',\n",
        "\t'https://nihcc.box.com/shared/static/upyy3ml7qdumlgk2rfcvlb9k6gvqq2pj.gz',\n",
        "\t'https://nihcc.box.com/shared/static/l6nilvfa9cg3s28tqv1qc1olm3gnz54p.gz',\n",
        "\t'https://nihcc.box.com/shared/static/hhq8fkdgvcari67vfhs7ppg2w6ni4jze.gz',\n",
        "\t'https://nihcc.box.com/shared/static/ioqwiy20ihqwyr8pf4c24eazhh281pbu.gz'\n",
        "]\n",
        "\n",
        "for idx, link in enumerate(links):\n",
        "     fn = 'images_%02d.tar.gz' % (idx+1)\n",
        "     print('downloading'+fn+'...')\n",
        "     urllib.request.urlretrieve(link, fn)  # download the zip file\n",
        "\n",
        "print(\"Download complete. Please check the checksums\")"
      ]
    },
    {
      "cell_type": "code",
      "execution_count": null,
      "metadata": {
        "id": "bdMBWY9FKou6"
      },
      "outputs": [],
      "source": [
        "!mkdir Dataset "
      ]
    },
    {
      "cell_type": "code",
      "execution_count": null,
      "metadata": {
        "id": "qmbkH4KDLq17"
      },
      "outputs": [],
      "source": [
        "import shutil\n",
        "shutil.unpack_archive(\"/content/drive/MyDrive/Dataset/Dataset/images_01.tar.gz\", \"Dataset\")\n",
        "shutil.unpack_archive(\"/content/drive/MyDrive/Dataset/Dataset/images_02.tar.gz\", \"Dataset\")\n",
        "shutil.unpack_archive(\"/content/drive/MyDrive/Dataset/Dataset/images_03.tar.gz\", \"Dataset\")\n",
        "shutil.unpack_archive(\"/content/drive/MyDrive/Dataset/Dataset/images_04.tar.gz\", \"Dataset\")\n",
        "shutil.unpack_archive(\"/content/drive/MyDrive/Dataset/Dataset/images_05.tar.gz\", \"Dataset\")\n",
        "shutil.unpack_archive(\"/content/drive/MyDrive/Dataset/Dataset/images_06.tar.gz\", \"Dataset\")\n",
        "shutil.unpack_archive(\"/content/drive/MyDrive/Dataset/Dataset/images_07.tar.gz\", \"Dataset\")\n",
        "shutil.unpack_archive(\"/content/drive/MyDrive/Dataset/Dataset/images_08.tar.gz\", \"Dataset\")\n",
        "shutil.unpack_archive(\"/content/drive/MyDrive/Dataset/Dataset/images_09.tar.gz\", \"Dataset\")\n",
        "shutil.unpack_archive(\"/content/drive/MyDrive/Dataset/Dataset/images_10.tar.gz\", \"Dataset\")\n",
        "shutil.unpack_archive(\"/content/drive/MyDrive/Dataset/Dataset/images_11.tar.gz\", \"Dataset\")\n",
        "shutil.unpack_archive(\"/content/drive/MyDrive/Dataset/Dataset/images_12.tar.gz\", \"Dataset\")"
      ]
    },
    {
      "cell_type": "markdown",
      "metadata": {
        "id": "4mPSf6gg-X4T"
      },
      "source": [
        "#***read images and corresponding labels***"
      ]
    },
    {
      "cell_type": "code",
      "execution_count": null,
      "metadata": {
        "id": "leWam4q1-lWd"
      },
      "outputs": [],
      "source": [
        "import torch\n",
        "from torch.utils.data import Dataset\n",
        "from PIL import Image\n",
        "import os\n",
        "\n",
        "\n",
        "class ChestXrayDataSet(Dataset):\n",
        "    def __init__(self, data_dir, image_list_file, transform=None):\n",
        "        \"\"\"\n",
        "        Args:\n",
        "            data_dir: path to image directory.\n",
        "            image_list_file: path to the file containing images\n",
        "                with corresponding labels.\n",
        "            transform: optional transform to be applied on a sample.\n",
        "        \"\"\"\n",
        "        image_names = []\n",
        "        labels = []\n",
        "        with open(image_list_file, \"r\") as f:\n",
        "            for line in f:\n",
        "                items = line.split()\n",
        "                image_name= items[0]\n",
        "                label = items[1:]\n",
        "                label = [int(i) for i in label]\n",
        "                image_name = os.path.join(data_dir, image_name)\n",
        "                image_names.append(image_name)\n",
        "                labels.append(label)\n",
        "\n",
        "        self.image_names = image_names\n",
        "        self.labels = labels\n",
        "        self.transform = transform\n",
        "\n",
        "    def __getitem__(self, index):\n",
        "        \"\"\"\n",
        "        Args:\n",
        "            index: the index of item\n",
        "        Returns:\n",
        "            image and its labels\n",
        "        \"\"\"\n",
        "        image_name = self.image_names[index]\n",
        "        image = Image.open(image_name).convert('RGB')\n",
        "        label = self.labels[index]\n",
        "        if self.transform is not None:\n",
        "            image = self.transform(image)\n",
        "        return image, torch.FloatTensor(label)\n",
        "\n",
        "    def __len__(self):\n",
        "        return len(self.image_names)\n"
      ]
    },
    {
      "cell_type": "code",
      "execution_count": null,
      "metadata": {
        "colab": {
          "base_uri": "https://localhost:8080/"
        },
        "id": "2vknTeeqDg3h",
        "outputId": "0bd57baf-e1b9-45b3-90df-4c33db140987"
      },
      "outputs": [
        {
          "output_type": "stream",
          "name": "stdout",
          "text": [
            "Cloning into 'CheXNet'...\n",
            "remote: Enumerating objects: 62, done.\u001b[K\n",
            "remote: Total 62 (delta 0), reused 0 (delta 0), pack-reused 62\u001b[K\n",
            "Unpacking objects: 100% (62/62), done.\n"
          ]
        }
      ],
      "source": [
        "!git clone https://github.com/arnoweng/CheXNet.git "
      ]
    },
    {
      "cell_type": "code",
      "execution_count": null,
      "metadata": {
        "colab": {
          "base_uri": "https://localhost:8080/"
        },
        "id": "sA0B0wGQOTT-",
        "outputId": "d54becf4-1853-46ba-cbdc-b60a8cf961c7"
      },
      "outputs": [
        {
          "output_type": "stream",
          "name": "stdout",
          "text": [
            "Cloning into 'torchxrayvision'...\n",
            "remote: Enumerating objects: 1406, done.\u001b[K\n",
            "remote: Counting objects: 100% (484/484), done.\u001b[K\n",
            "remote: Compressing objects: 100% (311/311), done.\u001b[K\n",
            "remote: Total 1406 (delta 293), reused 273 (delta 157), pack-reused 922\u001b[K\n",
            "Receiving objects: 100% (1406/1406), 41.75 MiB | 12.99 MiB/s, done.\n",
            "Resolving deltas: 100% (827/827), done.\n"
          ]
        }
      ],
      "source": [
        "!git clone https://github.com/mlmed/torchxrayvision.git"
      ]
    },
    {
      "cell_type": "code",
      "execution_count": null,
      "metadata": {
        "colab": {
          "base_uri": "https://localhost:8080/"
        },
        "id": "SrAKThw4Oyg0",
        "outputId": "5d5d19dc-2d3e-41eb-bd1c-9811b66f3355"
      },
      "outputs": [
        {
          "output_type": "stream",
          "name": "stdout",
          "text": [
            "Requirement already satisfied: torch>=1 in /usr/local/lib/python3.7/dist-packages (from -r /content/torchxrayvision/requirements.txt (line 1)) (1.10.0+cu102)\n",
            "Requirement already satisfied: torchvision>=0.5 in /usr/local/lib/python3.7/dist-packages (from -r /content/torchxrayvision/requirements.txt (line 2)) (0.11.1+cu102)\n",
            "Requirement already satisfied: scikit-image>=0.16 in /usr/local/lib/python3.7/dist-packages (from -r /content/torchxrayvision/requirements.txt (line 3)) (0.18.3)\n",
            "Requirement already satisfied: tqdm>=4 in /usr/local/lib/python3.7/dist-packages (from -r /content/torchxrayvision/requirements.txt (line 4)) (4.63.0)\n",
            "Requirement already satisfied: numpy>=1 in /usr/local/lib/python3.7/dist-packages (from -r /content/torchxrayvision/requirements.txt (line 5)) (1.21.5)\n",
            "Requirement already satisfied: pandas>=1 in /usr/local/lib/python3.7/dist-packages (from -r /content/torchxrayvision/requirements.txt (line 6)) (1.3.5)\n",
            "Requirement already satisfied: requests>=1 in /usr/local/lib/python3.7/dist-packages (from -r /content/torchxrayvision/requirements.txt (line 7)) (2.23.0)\n",
            "Requirement already satisfied: pillow>=5.3.0 in /usr/local/lib/python3.7/dist-packages (from -r /content/torchxrayvision/requirements.txt (line 8)) (7.1.2)\n",
            "Requirement already satisfied: typing-extensions in /usr/local/lib/python3.7/dist-packages (from torch>=1->-r /content/torchxrayvision/requirements.txt (line 1)) (3.10.0.2)\n",
            "Requirement already satisfied: imageio>=2.3.0 in /usr/local/lib/python3.7/dist-packages (from scikit-image>=0.16->-r /content/torchxrayvision/requirements.txt (line 3)) (2.4.1)\n",
            "Requirement already satisfied: networkx>=2.0 in /usr/local/lib/python3.7/dist-packages (from scikit-image>=0.16->-r /content/torchxrayvision/requirements.txt (line 3)) (2.6.3)\n",
            "Requirement already satisfied: tifffile>=2019.7.26 in /usr/local/lib/python3.7/dist-packages (from scikit-image>=0.16->-r /content/torchxrayvision/requirements.txt (line 3)) (2021.11.2)\n",
            "Requirement already satisfied: PyWavelets>=1.1.1 in /usr/local/lib/python3.7/dist-packages (from scikit-image>=0.16->-r /content/torchxrayvision/requirements.txt (line 3)) (1.3.0)\n",
            "Requirement already satisfied: scipy>=1.0.1 in /usr/local/lib/python3.7/dist-packages (from scikit-image>=0.16->-r /content/torchxrayvision/requirements.txt (line 3)) (1.4.1)\n",
            "Requirement already satisfied: matplotlib!=3.0.0,>=2.0.0 in /usr/local/lib/python3.7/dist-packages (from scikit-image>=0.16->-r /content/torchxrayvision/requirements.txt (line 3)) (3.2.2)\n",
            "Requirement already satisfied: python-dateutil>=2.7.3 in /usr/local/lib/python3.7/dist-packages (from pandas>=1->-r /content/torchxrayvision/requirements.txt (line 6)) (2.8.2)\n",
            "Requirement already satisfied: pytz>=2017.3 in /usr/local/lib/python3.7/dist-packages (from pandas>=1->-r /content/torchxrayvision/requirements.txt (line 6)) (2018.9)\n",
            "Requirement already satisfied: urllib3!=1.25.0,!=1.25.1,<1.26,>=1.21.1 in /usr/local/lib/python3.7/dist-packages (from requests>=1->-r /content/torchxrayvision/requirements.txt (line 7)) (1.24.3)\n",
            "Requirement already satisfied: chardet<4,>=3.0.2 in /usr/local/lib/python3.7/dist-packages (from requests>=1->-r /content/torchxrayvision/requirements.txt (line 7)) (3.0.4)\n",
            "Requirement already satisfied: idna<3,>=2.5 in /usr/local/lib/python3.7/dist-packages (from requests>=1->-r /content/torchxrayvision/requirements.txt (line 7)) (2.10)\n",
            "Requirement already satisfied: certifi>=2017.4.17 in /usr/local/lib/python3.7/dist-packages (from requests>=1->-r /content/torchxrayvision/requirements.txt (line 7)) (2021.10.8)\n",
            "Requirement already satisfied: cycler>=0.10 in /usr/local/lib/python3.7/dist-packages (from matplotlib!=3.0.0,>=2.0.0->scikit-image>=0.16->-r /content/torchxrayvision/requirements.txt (line 3)) (0.11.0)\n",
            "Requirement already satisfied: kiwisolver>=1.0.1 in /usr/local/lib/python3.7/dist-packages (from matplotlib!=3.0.0,>=2.0.0->scikit-image>=0.16->-r /content/torchxrayvision/requirements.txt (line 3)) (1.4.0)\n",
            "Requirement already satisfied: pyparsing!=2.0.4,!=2.1.2,!=2.1.6,>=2.0.1 in /usr/local/lib/python3.7/dist-packages (from matplotlib!=3.0.0,>=2.0.0->scikit-image>=0.16->-r /content/torchxrayvision/requirements.txt (line 3)) (3.0.7)\n",
            "Requirement already satisfied: six>=1.5 in /usr/local/lib/python3.7/dist-packages (from python-dateutil>=2.7.3->pandas>=1->-r /content/torchxrayvision/requirements.txt (line 6)) (1.15.0)\n"
          ]
        }
      ],
      "source": [
        "!pip install -r /content/torchxrayvision/requirements.txt"
      ]
    },
    {
      "cell_type": "code",
      "execution_count": null,
      "metadata": {
        "colab": {
          "base_uri": "https://localhost:8080/"
        },
        "id": "XTnN308Odl4h",
        "outputId": "94134563-64f8-480a-ed98-5cf51ae5140c"
      },
      "outputs": [
        {
          "output_type": "stream",
          "name": "stdout",
          "text": [
            "/content/torchxrayvision/torchxrayvision\n"
          ]
        }
      ],
      "source": [
        "%cd torchxrayvision/"
      ]
    },
    {
      "cell_type": "code",
      "execution_count": null,
      "metadata": {
        "colab": {
          "base_uri": "https://localhost:8080/"
        },
        "id": "ADKXOop_FVeB",
        "outputId": "a24f2f0e-cd28-4be8-efe1-9b0ef20650c1"
      },
      "outputs": [
        {
          "name": "stdout",
          "output_type": "stream",
          "text": [
            "/root\n"
          ]
        }
      ],
      "source": [
        "%cd /root"
      ]
    },
    {
      "cell_type": "code",
      "execution_count": null,
      "metadata": {
        "colab": {
          "base_uri": "https://localhost:8080/"
        },
        "id": "3YfqydN5w69D",
        "outputId": "59ba4aa8-c1a0-48f5-8718-1b134c7b0016"
      },
      "outputs": [
        {
          "name": "stdout",
          "output_type": "stream",
          "text": [
            "autoencoders.py   \u001b[0m\u001b[01;34mdata\u001b[0m/        __init__.py  _version.py\n",
            "\u001b[01;34mbaseline_models\u001b[0m/  datasets.py  models.py\n"
          ]
        }
      ],
      "source": [
        "%ls "
      ]
    },
    {
      "cell_type": "markdown",
      "metadata": {
        "id": "ULfcVpwL_HMo"
      },
      "source": [
        "#***The main CheXNet model implementation***"
      ]
    },
    {
      "cell_type": "code",
      "source": [
        "!pip install keras --upgrade"
      ],
      "metadata": {
        "colab": {
          "base_uri": "https://localhost:8080/"
        },
        "id": "WrRXMbYex5Sp",
        "outputId": "e1f6c8f9-1d43-4cae-bdf3-a4e4d18c5738"
      },
      "execution_count": null,
      "outputs": [
        {
          "output_type": "stream",
          "name": "stdout",
          "text": [
            "Requirement already satisfied: keras in /usr/local/lib/python3.7/dist-packages (2.8.0)\n"
          ]
        }
      ]
    },
    {
      "cell_type": "code",
      "execution_count": null,
      "metadata": {
        "cellView": "code",
        "id": "8WgV0Oga_SQp",
        "colab": {
          "base_uri": "https://localhost:8080/",
          "height": 295
        },
        "outputId": "c21d0f2b-fe41-404e-e1ad-9b0e393deed5"
      },
      "outputs": [
        {
          "output_type": "error",
          "ename": "KeyboardInterrupt",
          "evalue": "ignored",
          "traceback": [
            "\u001b[0;31m---------------------------------------------------------------------------\u001b[0m",
            "\u001b[0;31mKeyboardInterrupt\u001b[0m                         Traceback (most recent call last)",
            "\u001b[0;32m<ipython-input-10-39633a83b0dc>\u001b[0m in \u001b[0;36m<module>\u001b[0;34m()\u001b[0m\n\u001b[1;32m     14\u001b[0m \u001b[0;32mimport\u001b[0m \u001b[0mtorchvision\u001b[0m\u001b[0;34m.\u001b[0m\u001b[0mtransforms\u001b[0m \u001b[0;32mas\u001b[0m \u001b[0mtransforms\u001b[0m\u001b[0;34m\u001b[0m\u001b[0;34m\u001b[0m\u001b[0m\n\u001b[1;32m     15\u001b[0m \u001b[0;32mfrom\u001b[0m \u001b[0mtorch\u001b[0m\u001b[0;34m.\u001b[0m\u001b[0mutils\u001b[0m\u001b[0;34m.\u001b[0m\u001b[0mdata\u001b[0m \u001b[0;32mimport\u001b[0m \u001b[0mDataLoader\u001b[0m\u001b[0;34m\u001b[0m\u001b[0;34m\u001b[0m\u001b[0m\n\u001b[0;32m---> 16\u001b[0;31m \u001b[0;32mfrom\u001b[0m \u001b[0msklearn\u001b[0m\u001b[0;34m.\u001b[0m\u001b[0mmetrics\u001b[0m \u001b[0;32mimport\u001b[0m \u001b[0mroc_auc_score\u001b[0m\u001b[0;34m\u001b[0m\u001b[0;34m\u001b[0m\u001b[0m\n\u001b[0m\u001b[1;32m     17\u001b[0m \u001b[0;34m\u001b[0m\u001b[0m\n\u001b[1;32m     18\u001b[0m \u001b[0;34m\u001b[0m\u001b[0m\n",
            "\u001b[0;32m/usr/local/lib/python3.7/dist-packages/sklearn/__init__.py\u001b[0m in \u001b[0;36m<module>\u001b[0;34m()\u001b[0m\n\u001b[1;32m     80\u001b[0m     \u001b[0;32mfrom\u001b[0m \u001b[0;34m.\u001b[0m \u001b[0;32mimport\u001b[0m \u001b[0m_distributor_init\u001b[0m  \u001b[0;31m# noqa: F401\u001b[0m\u001b[0;34m\u001b[0m\u001b[0;34m\u001b[0m\u001b[0m\n\u001b[1;32m     81\u001b[0m     \u001b[0;32mfrom\u001b[0m \u001b[0;34m.\u001b[0m \u001b[0;32mimport\u001b[0m \u001b[0m__check_build\u001b[0m  \u001b[0;31m# noqa: F401\u001b[0m\u001b[0;34m\u001b[0m\u001b[0;34m\u001b[0m\u001b[0m\n\u001b[0;32m---> 82\u001b[0;31m     \u001b[0;32mfrom\u001b[0m \u001b[0;34m.\u001b[0m\u001b[0mbase\u001b[0m \u001b[0;32mimport\u001b[0m \u001b[0mclone\u001b[0m\u001b[0;34m\u001b[0m\u001b[0;34m\u001b[0m\u001b[0m\n\u001b[0m\u001b[1;32m     83\u001b[0m     \u001b[0;32mfrom\u001b[0m \u001b[0;34m.\u001b[0m\u001b[0mutils\u001b[0m\u001b[0;34m.\u001b[0m\u001b[0m_show_versions\u001b[0m \u001b[0;32mimport\u001b[0m \u001b[0mshow_versions\u001b[0m\u001b[0;34m\u001b[0m\u001b[0;34m\u001b[0m\u001b[0m\n\u001b[1;32m     84\u001b[0m \u001b[0;34m\u001b[0m\u001b[0m\n",
            "\u001b[0;32m/usr/local/lib/python3.7/dist-packages/sklearn/base.py\u001b[0m in \u001b[0;36m<module>\u001b[0;34m()\u001b[0m\n\u001b[1;32m     15\u001b[0m \u001b[0;32mfrom\u001b[0m \u001b[0;34m.\u001b[0m \u001b[0;32mimport\u001b[0m \u001b[0m__version__\u001b[0m\u001b[0;34m\u001b[0m\u001b[0;34m\u001b[0m\u001b[0m\n\u001b[1;32m     16\u001b[0m \u001b[0;32mfrom\u001b[0m \u001b[0;34m.\u001b[0m\u001b[0m_config\u001b[0m \u001b[0;32mimport\u001b[0m \u001b[0mget_config\u001b[0m\u001b[0;34m\u001b[0m\u001b[0;34m\u001b[0m\u001b[0m\n\u001b[0;32m---> 17\u001b[0;31m \u001b[0;32mfrom\u001b[0m \u001b[0;34m.\u001b[0m\u001b[0mutils\u001b[0m \u001b[0;32mimport\u001b[0m \u001b[0m_IS_32BIT\u001b[0m\u001b[0;34m\u001b[0m\u001b[0;34m\u001b[0m\u001b[0m\n\u001b[0m\u001b[1;32m     18\u001b[0m from .utils._tags import (\n\u001b[1;32m     19\u001b[0m     \u001b[0m_DEFAULT_TAGS\u001b[0m\u001b[0;34m,\u001b[0m\u001b[0;34m\u001b[0m\u001b[0;34m\u001b[0m\u001b[0m\n",
            "\u001b[0;32m/usr/local/lib/python3.7/dist-packages/sklearn/utils/__init__.py\u001b[0m in \u001b[0;36m<module>\u001b[0;34m()\u001b[0m\n\u001b[1;32m     19\u001b[0m \u001b[0;32mimport\u001b[0m \u001b[0mwarnings\u001b[0m\u001b[0;34m\u001b[0m\u001b[0;34m\u001b[0m\u001b[0m\n\u001b[1;32m     20\u001b[0m \u001b[0;32mimport\u001b[0m \u001b[0mnumpy\u001b[0m \u001b[0;32mas\u001b[0m \u001b[0mnp\u001b[0m\u001b[0;34m\u001b[0m\u001b[0;34m\u001b[0m\u001b[0m\n\u001b[0;32m---> 21\u001b[0;31m \u001b[0;32mfrom\u001b[0m \u001b[0mscipy\u001b[0m\u001b[0;34m.\u001b[0m\u001b[0msparse\u001b[0m \u001b[0;32mimport\u001b[0m \u001b[0missparse\u001b[0m\u001b[0;34m\u001b[0m\u001b[0;34m\u001b[0m\u001b[0m\n\u001b[0m\u001b[1;32m     22\u001b[0m \u001b[0;34m\u001b[0m\u001b[0m\n\u001b[1;32m     23\u001b[0m \u001b[0;32mfrom\u001b[0m \u001b[0;34m.\u001b[0m\u001b[0mmurmurhash\u001b[0m \u001b[0;32mimport\u001b[0m \u001b[0mmurmurhash3_32\u001b[0m\u001b[0;34m\u001b[0m\u001b[0;34m\u001b[0m\u001b[0m\n",
            "\u001b[0;32m/usr/local/lib/python3.7/dist-packages/scipy/sparse/__init__.py\u001b[0m in \u001b[0;36m<module>\u001b[0;34m()\u001b[0m\n\u001b[1;32m    240\u001b[0m \u001b[0;34m\u001b[0m\u001b[0m\n\u001b[1;32m    241\u001b[0m \u001b[0;31m# For backward compatibility with v0.19.\u001b[0m\u001b[0;34m\u001b[0m\u001b[0;34m\u001b[0m\u001b[0;34m\u001b[0m\u001b[0m\n\u001b[0;32m--> 242\u001b[0;31m \u001b[0;32mfrom\u001b[0m \u001b[0;34m.\u001b[0m \u001b[0;32mimport\u001b[0m \u001b[0mcsgraph\u001b[0m\u001b[0;34m\u001b[0m\u001b[0;34m\u001b[0m\u001b[0m\n\u001b[0m\u001b[1;32m    243\u001b[0m \u001b[0;34m\u001b[0m\u001b[0m\n\u001b[1;32m    244\u001b[0m \u001b[0m__all__\u001b[0m \u001b[0;34m=\u001b[0m \u001b[0;34m[\u001b[0m\u001b[0ms\u001b[0m \u001b[0;32mfor\u001b[0m \u001b[0ms\u001b[0m \u001b[0;32min\u001b[0m \u001b[0mdir\u001b[0m\u001b[0;34m(\u001b[0m\u001b[0;34m)\u001b[0m \u001b[0;32mif\u001b[0m \u001b[0;32mnot\u001b[0m \u001b[0ms\u001b[0m\u001b[0;34m.\u001b[0m\u001b[0mstartswith\u001b[0m\u001b[0;34m(\u001b[0m\u001b[0;34m'_'\u001b[0m\u001b[0;34m)\u001b[0m\u001b[0;34m]\u001b[0m\u001b[0;34m\u001b[0m\u001b[0;34m\u001b[0m\u001b[0m\n",
            "\u001b[0;32m/usr/local/lib/python3.7/dist-packages/scipy/sparse/csgraph/__init__.py\u001b[0m in \u001b[0;36m<module>\u001b[0;34m()\u001b[0m\n\u001b[1;32m    185\u001b[0m \u001b[0;32mfrom\u001b[0m \u001b[0;34m.\u001b[0m\u001b[0m_traversal\u001b[0m \u001b[0;32mimport\u001b[0m \u001b[0mbreadth_first_order\u001b[0m\u001b[0;34m,\u001b[0m \u001b[0mdepth_first_order\u001b[0m\u001b[0;34m,\u001b[0m\u001b[0;31m \u001b[0m\u001b[0;31m\\\u001b[0m\u001b[0;34m\u001b[0m\u001b[0;34m\u001b[0m\u001b[0m\n\u001b[1;32m    186\u001b[0m     \u001b[0mbreadth_first_tree\u001b[0m\u001b[0;34m,\u001b[0m \u001b[0mdepth_first_tree\u001b[0m\u001b[0;34m,\u001b[0m \u001b[0mconnected_components\u001b[0m\u001b[0;34m\u001b[0m\u001b[0;34m\u001b[0m\u001b[0m\n\u001b[0;32m--> 187\u001b[0;31m \u001b[0;32mfrom\u001b[0m \u001b[0;34m.\u001b[0m\u001b[0m_min_spanning_tree\u001b[0m \u001b[0;32mimport\u001b[0m \u001b[0mminimum_spanning_tree\u001b[0m\u001b[0;34m\u001b[0m\u001b[0;34m\u001b[0m\u001b[0m\n\u001b[0m\u001b[1;32m    188\u001b[0m \u001b[0;32mfrom\u001b[0m \u001b[0;34m.\u001b[0m\u001b[0m_flow\u001b[0m \u001b[0;32mimport\u001b[0m \u001b[0mmaximum_flow\u001b[0m\u001b[0;34m\u001b[0m\u001b[0;34m\u001b[0m\u001b[0m\n\u001b[1;32m    189\u001b[0m \u001b[0;32mfrom\u001b[0m \u001b[0;34m.\u001b[0m\u001b[0m_matching\u001b[0m \u001b[0;32mimport\u001b[0m \u001b[0mmaximum_bipartite_matching\u001b[0m\u001b[0;34m\u001b[0m\u001b[0;34m\u001b[0m\u001b[0m\n",
            "\u001b[0;32m/usr/lib/python3.7/importlib/_bootstrap.py\u001b[0m in \u001b[0;36mparent\u001b[0;34m(self)\u001b[0m\n",
            "\u001b[0;31mKeyboardInterrupt\u001b[0m: "
          ]
        }
      ],
      "source": [
        "# encoding: utf-8\n",
        "\n",
        "\"\"\"\n",
        "The main CheXNet model implementation.\n",
        "\"\"\"\n",
        "\n",
        "\n",
        "import os\n",
        "import numpy as np\n",
        "import torch\n",
        "import torch.nn as nn\n",
        "import torch.backends.cudnn as cudnn\n",
        "import torchvision\n",
        "import torchvision.transforms as transforms\n",
        "from torch.utils.data import DataLoader\n",
        "from sklearn.metrics import roc_auc_score\n",
        "\n",
        "\n",
        "CKPT_PATH = './content/CheXNet/model.pth.tar'\n",
        "N_CLASSES = 14\n",
        "CLASS_NAMES = [ 'Atelectasis', 'Cardiomegaly', 'Effusion', 'Infiltration', 'Mass', 'Nodule', 'Pneumonia',\n",
        "                'Pneumothorax', 'Consolidation', 'Edema', 'Emphysema', 'Fibrosis', 'Pleural_Thickening', 'Hernia']\n",
        "DATA_DIR = '/content/Dataset/images'\n",
        "TEST_IMAGE_LIST = '/content/CheXNet/ChestX-ray14/labels/test_list.txt'\n",
        "BATCH_SIZE = 2\n",
        "\n",
        "\n",
        "def main():\n",
        "\n",
        "    cudnn.benchmark = True\n",
        "\n",
        "    # initialize and load the model\n",
        "    model = DenseNet121(N_CLASSES).cuda()\n",
        "    model = torch.nn.DataParallel(model).cuda()\n",
        "\n",
        "    if os.path.isfile(CKPT_PATH):\n",
        "        print(\"=> loading checkpoint\")\n",
        "        checkpoint = torch.load(CKPT_PATH)\n",
        "        model.load_state_dict(checkpoint['state_dict'])\n",
        "        print(\"=> loaded checkpoint\")\n",
        "    else:\n",
        "        print(\"=> no checkpoint found\")\n",
        "\n",
        "    normalize = transforms.Normalize([0.485, 0.456, 0.406],\n",
        "                                     [0.229, 0.224, 0.225])\n",
        "\n",
        "    test_dataset = ChestXrayDataSet(data_dir=DATA_DIR,\n",
        "                                    image_list_file=TEST_IMAGE_LIST,\n",
        "                                    transform=transforms.Compose([\n",
        "                                        transforms.Resize(256),\n",
        "                                        transforms.TenCrop(224),\n",
        "                                        transforms.Lambda\n",
        "                                        (lambda crops: torch.stack([transforms.ToTensor()(crop) for crop in crops])),\n",
        "                                        transforms.Lambda\n",
        "                                        (lambda crops: torch.stack([normalize(crop) for crop in crops]))\n",
        "                                    ]))\n",
        "    test_loader = DataLoader(dataset=test_dataset, batch_size=BATCH_SIZE,\n",
        "                             shuffle=False, num_workers=8, pin_memory=True)\n",
        "\n",
        "    # initialize the ground truth and output tensor\n",
        "    gt = torch.FloatTensor()\n",
        "    gt = gt.cuda()\n",
        "    pred = torch.FloatTensor()\n",
        "    pred = pred.cuda()\n",
        "\n",
        "    # switch to evaluate mode\n",
        "    model.eval()\n",
        "\n",
        "    for i, (inp, target) in enumerate(test_loader):\n",
        "        target = target.cuda()\n",
        "        gt = torch.cat((gt, target), 0)\n",
        "        bs, n_crops, c, h, w = inp.size()\n",
        "        input_var = torch.autograd.Variable(inp.view(-1, c, h, w).cuda(), volatile=True)\n",
        "        output = model(input_var)\n",
        "        output_mean = output.view(bs, n_crops, -1).mean(1)\n",
        "        pred = torch.cat((pred, output_mean.data), 0)\n",
        "\n",
        "    AUROCs = compute_AUCs(gt, pred)\n",
        "    AUROC_avg = np.array(AUROCs).mean()\n",
        "    print('The average AUROC is {AUROC_avg:.3f}'.format(AUROC_avg=AUROC_avg))\n",
        "    for i in range(N_CLASSES):\n",
        "        print('The AUROC of {} is {}'.format(CLASS_NAMES[i], AUROCs[i]))\n",
        "\n",
        "\n",
        "def compute_AUCs(gt, pred):\n",
        "    \"\"\"Computes Area Under the Curve (AUC) from prediction scores.\n",
        "\n",
        "    Args:\n",
        "        gt: Pytorch tensor on GPU, shape = [n_samples, n_classes]\n",
        "          true binary labels.\n",
        "        pred: Pytorch tensor on GPU, shape = [n_samples, n_classes]\n",
        "          can either be probability estimates of the positive class,\n",
        "          confidence values, or binary decisions.\n",
        "\n",
        "    Returns:\n",
        "        List of AUROCs of all classes.\n",
        "    \"\"\"\n",
        "    AUROCs = []\n",
        "    gt_np = gt.cpu().numpy()\n",
        "    pred_np = pred.cpu().numpy()\n",
        "    for i in range(N_CLASSES):\n",
        "        AUROCs.append(roc_auc_score(gt_np[:, i], pred_np[:, i]))\n",
        "    return AUROCs\n",
        "\n",
        "\n",
        "class DenseNet121(nn.Module):\n",
        "    \"\"\"Model modified.\n",
        "\n",
        "    The architecture of our model is the same as standard DenseNet121\n",
        "    except the classifier layer which has an additional sigmoid function.\n",
        "\n",
        "    \"\"\"\n",
        "    def __init__(self, out_size):\n",
        "        super(DenseNet121, self).__init__()\n",
        "        self.densenet121 = torchvision.models.densenet121(pretrained=True)\n",
        "        num_ftrs = self.densenet121.classifier.in_features\n",
        "        self.densenet121.classifier = nn.Sequential(\n",
        "            nn.Linear(num_ftrs, out_size),\n",
        "            nn.Sigmoid()\n",
        "        )\n",
        "\n",
        "    def forward(self, x):\n",
        "        x = self.densenet121(x)\n",
        "        return x\n",
        "\n",
        "\n",
        "if __name__ == '__main__':\n",
        "    main()"
      ]
    },
    {
      "cell_type": "code",
      "execution_count": null,
      "metadata": {
        "colab": {
          "base_uri": "https://localhost:8080/"
        },
        "id": "_ml-7_Cruxhl",
        "outputId": "2dcb64b7-26f2-416c-d6c1-a5b99ec44e49"
      },
      "outputs": [
        {
          "name": "stdout",
          "output_type": "stream",
          "text": [
            "autoencoders.py   \u001b[0m\u001b[01;34mdata\u001b[0m/        __init__.py  \u001b[01;34m__pycache__\u001b[0m/\n",
            "\u001b[01;34mbaseline_models\u001b[0m/  datasets.py  models.py    _version.py\n"
          ]
        }
      ],
      "source": [
        "%ls"
      ]
    },
    {
      "cell_type": "markdown",
      "metadata": {
        "id": "PRbfEJbIXkzt"
      },
      "source": [
        "#***torchx-rayvision***#"
      ]
    },
    {
      "cell_type": "code",
      "execution_count": null,
      "metadata": {
        "colab": {
          "base_uri": "https://localhost:8080/"
        },
        "id": "0waCl1RYQA28",
        "outputId": "5a3e5b97-98b9-4f93-817a-43229dde31fb"
      },
      "outputs": [
        {
          "output_type": "stream",
          "name": "stdout",
          "text": [
            "Collecting torchxrayvision\n",
            "  Downloading torchxrayvision-0.0.37-py3-none-any.whl (29.0 MB)\n",
            "\u001b[K     |████████████████████████████████| 29.0 MB 1.2 MB/s \n",
            "\u001b[?25hRequirement already satisfied: scikit-image>=0.16 in /usr/local/lib/python3.7/dist-packages (from torchxrayvision) (0.18.3)\n",
            "Requirement already satisfied: pillow>=5.3.0 in /usr/local/lib/python3.7/dist-packages (from torchxrayvision) (7.1.2)\n",
            "Requirement already satisfied: pandas>=1 in /usr/local/lib/python3.7/dist-packages (from torchxrayvision) (1.3.5)\n",
            "Requirement already satisfied: requests>=1 in /usr/local/lib/python3.7/dist-packages (from torchxrayvision) (2.23.0)\n",
            "Requirement already satisfied: torch>=1 in /usr/local/lib/python3.7/dist-packages (from torchxrayvision) (1.10.0+cu102)\n",
            "Requirement already satisfied: numpy>=1 in /usr/local/lib/python3.7/dist-packages (from torchxrayvision) (1.21.5)\n",
            "Requirement already satisfied: tqdm>=4 in /usr/local/lib/python3.7/dist-packages (from torchxrayvision) (4.63.0)\n",
            "Requirement already satisfied: torchvision>=0.5 in /usr/local/lib/python3.7/dist-packages (from torchxrayvision) (0.11.1+cu102)\n",
            "Requirement already satisfied: pytz>=2017.3 in /usr/local/lib/python3.7/dist-packages (from pandas>=1->torchxrayvision) (2018.9)\n",
            "Requirement already satisfied: python-dateutil>=2.7.3 in /usr/local/lib/python3.7/dist-packages (from pandas>=1->torchxrayvision) (2.8.2)\n",
            "Requirement already satisfied: six>=1.5 in /usr/local/lib/python3.7/dist-packages (from python-dateutil>=2.7.3->pandas>=1->torchxrayvision) (1.15.0)\n",
            "Requirement already satisfied: certifi>=2017.4.17 in /usr/local/lib/python3.7/dist-packages (from requests>=1->torchxrayvision) (2021.10.8)\n",
            "Requirement already satisfied: idna<3,>=2.5 in /usr/local/lib/python3.7/dist-packages (from requests>=1->torchxrayvision) (2.10)\n",
            "Requirement already satisfied: chardet<4,>=3.0.2 in /usr/local/lib/python3.7/dist-packages (from requests>=1->torchxrayvision) (3.0.4)\n",
            "Requirement already satisfied: urllib3!=1.25.0,!=1.25.1,<1.26,>=1.21.1 in /usr/local/lib/python3.7/dist-packages (from requests>=1->torchxrayvision) (1.24.3)\n",
            "Requirement already satisfied: tifffile>=2019.7.26 in /usr/local/lib/python3.7/dist-packages (from scikit-image>=0.16->torchxrayvision) (2021.11.2)\n",
            "Requirement already satisfied: PyWavelets>=1.1.1 in /usr/local/lib/python3.7/dist-packages (from scikit-image>=0.16->torchxrayvision) (1.3.0)\n",
            "Requirement already satisfied: networkx>=2.0 in /usr/local/lib/python3.7/dist-packages (from scikit-image>=0.16->torchxrayvision) (2.6.3)\n",
            "Requirement already satisfied: matplotlib!=3.0.0,>=2.0.0 in /usr/local/lib/python3.7/dist-packages (from scikit-image>=0.16->torchxrayvision) (3.2.2)\n",
            "Requirement already satisfied: imageio>=2.3.0 in /usr/local/lib/python3.7/dist-packages (from scikit-image>=0.16->torchxrayvision) (2.4.1)\n",
            "Requirement already satisfied: scipy>=1.0.1 in /usr/local/lib/python3.7/dist-packages (from scikit-image>=0.16->torchxrayvision) (1.4.1)\n",
            "Requirement already satisfied: cycler>=0.10 in /usr/local/lib/python3.7/dist-packages (from matplotlib!=3.0.0,>=2.0.0->scikit-image>=0.16->torchxrayvision) (0.11.0)\n",
            "Requirement already satisfied: pyparsing!=2.0.4,!=2.1.2,!=2.1.6,>=2.0.1 in /usr/local/lib/python3.7/dist-packages (from matplotlib!=3.0.0,>=2.0.0->scikit-image>=0.16->torchxrayvision) (3.0.7)\n",
            "Requirement already satisfied: kiwisolver>=1.0.1 in /usr/local/lib/python3.7/dist-packages (from matplotlib!=3.0.0,>=2.0.0->scikit-image>=0.16->torchxrayvision) (1.4.0)\n",
            "Requirement already satisfied: typing-extensions in /usr/local/lib/python3.7/dist-packages (from kiwisolver>=1.0.1->matplotlib!=3.0.0,>=2.0.0->scikit-image>=0.16->torchxrayvision) (3.10.0.2)\n",
            "Installing collected packages: torchxrayvision\n",
            "Successfully installed torchxrayvision-0.0.37\n"
          ]
        }
      ],
      "source": [
        "%load_ext autoreload\n",
        "%autoreload 2\n",
        "!pip install torchxrayvision"
      ]
    },
    {
      "cell_type": "code",
      "execution_count": null,
      "metadata": {
        "colab": {
          "base_uri": "https://localhost:8080/",
          "height": 1000
        },
        "id": "QEeHAOWDRmyl",
        "outputId": "5f0bf0a1-74c7-47cc-df40-10c12eaa4fe2"
      },
      "outputs": [
        {
          "output_type": "stream",
          "name": "stdout",
          "text": [
            "Lung Lesion doesn't exist. Adding nans instead.\n",
            "Fracture doesn't exist. Adding nans instead.\n",
            "Lung Opacity doesn't exist. Adding nans instead.\n",
            "Enlarged Cardiomediastinum doesn't exist. Adding nans instead.\n",
            "{'Tube', 'Aortic Elongation', 'Air Trapping', 'Costophrenic Angle Blunting', 'Scoliosis', 'Flattened Diaphragm', 'Hemidiaphragm Elevation', 'Hilar Enlargement', 'Tuberculosis', 'Support Devices', 'Granuloma', 'Aortic Atheromatosis', 'Bronchiectasis'} will be dropped\n",
            "Lung Lesion doesn't exist. Adding nans instead.\n",
            "Lung Opacity doesn't exist. Adding nans instead.\n",
            "Enlarged Cardiomediastinum doesn't exist. Adding nans instead.\n",
            "Downloading weights...\n",
            "If this fails you can run `wget https://github.com/mlmed/torchxrayvision/releases/download/v1/nih-densenet121-d121-tw-lr001-rot45-tr15-sc15-seed0-best.pt -O /root/.torchxrayvision/models_data/nih-densenet121-d121-tw-lr001-rot45-tr15-sc15-seed0-best.pt`\n",
            "[██████████████████████████████████████████████████]\n",
            "Warning: Input size (1024x1024) is not the native resolution (224x224) for this model. A resize will be performed but this could impact performance.\n",
            "Downloading weights...\n",
            "If this fails you can run `wget https://github.com/mlmed/torchxrayvision/releases/download/v1/nih-pc-chex-mimic_ch-google-openi-kaggle-densenet121-d121-tw-lr001-rot45-tr15-sc15-seed0-best.pt -O /root/.torchxrayvision/models_data/nih-pc-chex-mimic_ch-google-openi-kaggle-densenet121-d121-tw-lr001-rot45-tr15-sc15-seed0-best.pt`\n",
            "[██████████████████████████████████████████████████]\n",
            "Warning: Input size (1024x1024) is not the native resolution (224x224) for this model. A resize will be performed but this could impact performance.\n",
            "Working on Sample Number  10799\n",
            "Working on Sample Number  9845\n",
            "Working on Sample Number  19648\n",
            "Working on Sample Number  13123\n",
            "Working on Sample Number  21243\n",
            "Working on Sample Number  9225\n",
            "Working on Sample Number  24275\n",
            "Working on Sample Number  20757\n",
            "Working on Sample Number  22258\n",
            "Working on Sample Number  14116\n",
            "Working on Sample Number  14935\n",
            "Working on Sample Number  15430\n",
            "Working on Sample Number  15832\n",
            "Working on Sample Number  6744\n",
            "Working on Sample Number  19852\n",
            "Working on Sample Number  14650\n",
            "Working on Sample Number  17089\n",
            "Working on Sample Number  18983\n",
            "Working on Sample Number  10327\n",
            "Working on Sample Number  18606\n",
            "Working on Sample Number  24152\n",
            "Working on Sample Number  2897\n",
            "Working on Sample Number  26277\n",
            "Working on Sample Number  16921\n",
            "Working on Sample Number  27469\n",
            "Working on Sample Number  6216\n",
            "Working on Sample Number  6921\n",
            "Working on Sample Number  6036\n",
            "Working on Sample Number  2163\n",
            "Working on Sample Number  5072\n",
            "Working on Sample Number  4851\n",
            "Working on Sample Number  7877\n",
            "Working on Sample Number  18430\n",
            "Working on Sample Number  1871\n",
            "Working on Sample Number  7599\n",
            "Working on Sample Number  2496\n",
            "Working on Sample Number  15186\n",
            "Working on Sample Number  24675\n",
            "Working on Sample Number  10200\n",
            "Working on Sample Number  755\n",
            "Working on Sample Number  797\n",
            "Working on Sample Number  17043\n",
            "Working on Sample Number  3219\n",
            "Working on Sample Number  15246\n",
            "Working on Sample Number  24999\n",
            "Working on Sample Number  23840\n",
            "Working on Sample Number  16321\n",
            "Working on Sample Number  19721\n",
            "Working on Sample Number  19129\n",
            "Working on Sample Number  21119\n",
            "Working on Sample Number  8736\n",
            "Working on Sample Number  23071\n",
            "Working on Sample Number  17098\n",
            "Working on Sample Number  18676\n",
            "Working on Sample Number  24727\n",
            "Working on Sample Number  27299\n",
            "Working on Sample Number  11723\n",
            "Working on Sample Number  11122\n",
            "Working on Sample Number  17591\n",
            "Working on Sample Number  22556\n",
            "Working on Sample Number  25378\n",
            "Working on Sample Number  10368\n",
            "Working on Sample Number  26752\n",
            "Working on Sample Number  26532\n",
            "Working on Sample Number  23605\n",
            "Working on Sample Number  6021\n",
            "Working on Sample Number  20006\n",
            "Working on Sample Number  3560\n",
            "Working on Sample Number  25332\n",
            "Working on Sample Number  12676\n",
            "Working on Sample Number  18025\n",
            "Working on Sample Number  27690\n",
            "Working on Sample Number  13754\n",
            "Working on Sample Number  14879\n",
            "Working on Sample Number  21368\n",
            "Working on Sample Number  20737\n",
            "Working on Sample Number  28647\n",
            "Working on Sample Number  28585\n",
            "Working on Sample Number  26681\n",
            "Working on Sample Number  14627\n",
            "Working on Sample Number  12134\n",
            "Working on Sample Number  27767\n",
            "Working on Sample Number  15115\n",
            "Working on Sample Number  8622\n",
            "Working on Sample Number  23634\n",
            "Working on Sample Number  20571\n",
            "Working on Sample Number  27022\n",
            "Working on Sample Number  19043\n",
            "Working on Sample Number  9781\n",
            "Working on Sample Number  19340\n",
            "Working on Sample Number  27257\n",
            "Working on Sample Number  16298\n",
            "Working on Sample Number  12372\n",
            "Working on Sample Number  18635\n",
            "Working on Sample Number  4420\n",
            "Working on Sample Number  13062\n",
            "Working on Sample Number  7108\n",
            "Working on Sample Number  17455\n",
            "Working on Sample Number  14324\n",
            "Working on Sample Number  5251\n",
            "Working on Sample Number  7012\n",
            "Working on Sample Number  9396\n",
            "Working on Sample Number  14312\n",
            "Working on Sample Number  3918\n",
            "Working on Sample Number  9359\n",
            "Working on Sample Number  18068\n",
            "Working on Sample Number  11491\n",
            "Working on Sample Number  23482\n",
            "Working on Sample Number  15127\n",
            "Working on Sample Number  10959\n",
            "Working on Sample Number  2957\n",
            "Working on Sample Number  4469\n",
            "Working on Sample Number  14165\n",
            "Working on Sample Number  8752\n",
            "Working on Sample Number  9797\n",
            "Working on Sample Number  14505\n",
            "Working on Sample Number  5795\n",
            "Working on Sample Number  17856\n",
            "Working on Sample Number  23647\n",
            "Working on Sample Number  7365\n",
            "Working on Sample Number  28254\n",
            "Working on Sample Number  8448\n",
            "Working on Sample Number  22385\n",
            "Working on Sample Number  3762\n",
            "Working on Sample Number  26530\n",
            "Working on Sample Number  25392\n",
            "Working on Sample Number  16221\n",
            "Working on Sample Number  18819\n",
            "Working on Sample Number  1634\n",
            "Working on Sample Number  15914\n",
            "Working on Sample Number  973\n",
            "Working on Sample Number  20848\n",
            "Working on Sample Number  10215\n",
            "Working on Sample Number  11157\n",
            "Working on Sample Number  24777\n",
            "Working on Sample Number  27007\n",
            "Working on Sample Number  13824\n",
            "Working on Sample Number  2418\n",
            "Working on Sample Number  12843\n",
            "Working on Sample Number  13242\n",
            "Working on Sample Number  3455\n",
            "Working on Sample Number  22551\n",
            "Working on Sample Number  22203\n",
            "Working on Sample Number  28802\n",
            "Working on Sample Number  6521\n",
            "Working on Sample Number  22626\n",
            "Working on Sample Number  24126\n",
            "Working on Sample Number  9123\n",
            "Working on Sample Number  10179\n",
            "Working on Sample Number  23122\n",
            "Working on Sample Number  14254\n",
            "Working on Sample Number  19171\n",
            "Working on Sample Number  23700\n",
            "Working on Sample Number  4305\n",
            "Working on Sample Number  18994\n",
            "Working on Sample Number  5531\n",
            "Working on Sample Number  23310\n",
            "Working on Sample Number  15041\n",
            "Working on Sample Number  23588\n",
            "Working on Sample Number  23306\n",
            "Working on Sample Number  4182\n",
            "Working on Sample Number  15403\n",
            "Working on Sample Number  13160\n",
            "Working on Sample Number  26635\n",
            "Working on Sample Number  15106\n",
            "Working on Sample Number  307\n",
            "Working on Sample Number  13392\n",
            "Working on Sample Number  14368\n",
            "Working on Sample Number  5302\n",
            "Working on Sample Number  1152\n",
            "Working on Sample Number  23334\n",
            "Working on Sample Number  8467\n",
            "Working on Sample Number  5294\n",
            "Working on Sample Number  13866\n",
            "Working on Sample Number  13683\n",
            "Working on Sample Number  17592\n",
            "Working on Sample Number  2492\n",
            "Working on Sample Number  27112\n",
            "Working on Sample Number  15949\n",
            "Working on Sample Number  14622\n",
            "Working on Sample Number  13592\n",
            "Working on Sample Number  25213\n",
            "Working on Sample Number  770\n",
            "Working on Sample Number  15875\n",
            "Working on Sample Number  8286\n",
            "Working on Sample Number  11490\n",
            "Working on Sample Number  5995\n",
            "Working on Sample Number  18728\n",
            "Working on Sample Number  13640\n",
            "Working on Sample Number  3091\n",
            "Working on Sample Number  12895\n",
            "Working on Sample Number  3912\n",
            "Working on Sample Number  17818\n",
            "Working on Sample Number  6594\n",
            "Working on Sample Number  21752\n",
            "Working on Sample Number  24756\n",
            "Working on Sample Number  26947\n",
            "Working on Sample Number  23532\n",
            "Working on Sample Number  7997\n",
            "Working on Sample Number  20238\n",
            "Atelectasis 0.883653286794648\n",
            "Consolidation 0.9318181818181819\n",
            "Infiltration 0.5798778527804564\n",
            "Pneumothorax 0.9095477386934674\n",
            "Edema (Only one class observed)\n",
            "Emphysema 0.7297979797979798\n",
            "Fibrosis 0.7334183673469388\n",
            "Effusion 0.94140625\n",
            "Pneumonia (Only one class observed)\n",
            "Pleural_Thickening 0.8201530612244898\n",
            "Cardiomegaly 0.965561224489796\n",
            "Nodule 0.7926315789473685\n",
            "Mass 0.9896907216494845\n",
            "Hernia (Only one class observed)\n"
          ]
        },
        {
          "output_type": "display_data",
          "data": {
            "text/plain": [
              "<Figure size 432x288 with 1 Axes>"
            ],
            "image/png": "[encoded data removed]"
          },
          "metadata": {
            "needs_background": "light"
          }
        }
      ],
      "source": [
        "import os,sys\n",
        "sys.path.insert(0,\"..\")\n",
        "from glob import glob\n",
        "import matplotlib.pyplot as plt\n",
        "import numpy as np\n",
        "import torch\n",
        "import torchvision\n",
        "import sys\n",
        "import torch.nn.functional as F\n",
        "import torchxrayvision as xrv\n",
        "import torchvision.transforms\n",
        "transform = torchvision.transforms.Compose([xrv.datasets.XRayCenterCrop(),xrv.datasets.XRayResizer(224)])\n",
        "d_nih = xrv.datasets.NIH_Dataset(imgpath=\"/content/Dataset/images\")\n",
        "xrv.datasets.relabel_dataset(xrv.datasets.default_pathologies, d_nih)\n",
        "d_pc = xrv.datasets.PC_Dataset(imgpath=\"/content/Dataset/images\")\n",
        "xrv.datasets.relabel_dataset(xrv.datasets.default_pathologies, d_pc)\n",
        "sample = d_nih[40]\n",
        "plt.imshow(sample[\"img\"][0], cmap=\"Greys_r\");\n",
        "dict(zip(d_pc.pathologies,sample[\"lab\"]))\n",
        "model = xrv.models.DenseNet(weights=\"nih\")\n",
        "#model = xrv.models.ResNet(weights=\"resnet50-res512-all\")\n",
        "with torch.no_grad():\n",
        "    out = model(torch.from_numpy(sample[\"img\"]).unsqueeze(0)).cpu()\n",
        "    \n",
        "dict(zip(model.pathologies,zip(out[0].detach().numpy(), sample[\"lab\"])))\n",
        "model = xrv.models.DenseNet(weights=\"all\")\n",
        "#model = xrv.models.ResNet(weights=\"resnet50-res512-all\")\n",
        "with torch.no_grad():\n",
        "    out = model(torch.from_numpy(sample[\"img\"]).unsqueeze(0)).cpu()\n",
        "    \n",
        "dict(zip(model.pathologies,zip(out[0].detach().numpy(), sample[\"lab\"])))\n",
        "# does the model align with the dataset?\n",
        "dict(zip(model.pathologies,xrv.datasets.default_pathologies))\n",
        "# small test eval\n",
        "outs = []\n",
        "labs = []\n",
        "with torch.no_grad():\n",
        "    for i in np.random.randint(0,len(d_nih),200):\n",
        "        sample = d_nih[i]\n",
        "        print(\"Working on Sample Number \", i)\n",
        "        labs.append(sample[\"lab\"])\n",
        "        out = model(torch.from_numpy(sample[\"img\"]).unsqueeze(0)).cpu()\n",
        "        out = torch.sigmoid(out)\n",
        "        outs.append(out.detach().numpy()[0])\n",
        "        import sklearn, sklearn.metrics\n",
        "for i in range(14):\n",
        "    if len(np.unique(np.asarray(labs)[:,i])) > 1:\n",
        "        auc = sklearn.metrics.roc_auc_score(np.asarray(labs)[:,i], np.asarray(outs)[:,i])\n",
        "    else:\n",
        "        auc = \"(Only one class observed)\"\n",
        "    print(xrv.datasets.default_pathologies[i], auc)"
      ]
    },
    {
      "cell_type": "code",
      "source": [
        "labs"
      ],
      "metadata": {
        "colab": {
          "base_uri": "https://localhost:8080/"
        },
        "id": "wPAQu2gPB49_",
        "outputId": "d1f99d7d-1e79-49dd-87e0-3c914ccd2a27"
      },
      "execution_count": null,
      "outputs": [
        {
          "output_type": "execute_result",
          "data": {
            "text/plain": [
              "[array([ 0.,  0.,  0.,  0.,  0.,  0.,  0.,  0.,  0.,  0.,  0.,  0.,  0.,\n",
              "         0., nan, nan, nan, nan]),\n",
              " array([ 0.,  0.,  0.,  0.,  0.,  0.,  0.,  0.,  0.,  0.,  0.,  0.,  0.,\n",
              "         0., nan, nan, nan, nan]),\n",
              " array([ 0.,  0.,  0.,  0.,  0.,  0.,  0.,  0.,  0.,  0.,  0.,  0.,  0.,\n",
              "         0., nan, nan, nan, nan]),\n",
              " array([ 0.,  0.,  0.,  1.,  0.,  0.,  0.,  0.,  0.,  0.,  0.,  0.,  0.,\n",
              "         0., nan, nan, nan, nan]),\n",
              " array([ 0.,  0.,  0.,  0.,  0.,  0.,  0.,  0.,  0.,  0.,  0.,  0.,  0.,\n",
              "         0., nan, nan, nan, nan]),\n",
              " array([ 0.,  0.,  0.,  0.,  0.,  0.,  0.,  0.,  0.,  0.,  0.,  0.,  0.,\n",
              "         0., nan, nan, nan, nan]),\n",
              " array([ 0.,  0.,  0.,  0.,  0.,  0.,  0.,  0.,  0.,  1.,  0.,  0.,  0.,\n",
              "         0., nan, nan, nan, nan]),\n",
              " array([ 0.,  0.,  0.,  0.,  0.,  0.,  0.,  0.,  0.,  0.,  0.,  0.,  0.,\n",
              "         0., nan, nan, nan, nan]),\n",
              " array([ 0.,  0.,  0.,  0.,  0.,  0.,  0.,  0.,  0.,  0.,  0.,  0.,  0.,\n",
              "         0., nan, nan, nan, nan]),\n",
              " array([ 0.,  0.,  0.,  0.,  0.,  0.,  0.,  0.,  0.,  0.,  0.,  0.,  0.,\n",
              "         0., nan, nan, nan, nan]),\n",
              " array([ 0.,  0.,  0.,  0.,  0.,  0.,  0.,  0.,  0.,  0.,  0.,  0.,  0.,\n",
              "         0., nan, nan, nan, nan]),\n",
              " array([ 0.,  0.,  0.,  0.,  0.,  0.,  0.,  0.,  0.,  0.,  0.,  0.,  0.,\n",
              "         0., nan, nan, nan, nan]),\n",
              " array([ 0.,  0.,  0.,  0.,  0.,  0.,  0.,  0.,  0.,  0.,  0.,  1.,  1.,\n",
              "         0., nan, nan, nan, nan]),\n",
              " array([ 0.,  0.,  0.,  0.,  0.,  0.,  0.,  0.,  0.,  0.,  0.,  0.,  0.,\n",
              "         0., nan, nan, nan, nan]),\n",
              " array([ 0.,  0.,  1.,  0.,  0.,  0.,  0.,  0.,  0.,  0.,  0.,  0.,  0.,\n",
              "         0., nan, nan, nan, nan]),\n",
              " array([ 1.,  0.,  0.,  0.,  0.,  0.,  0.,  1.,  0.,  0.,  0.,  0.,  0.,\n",
              "         0., nan, nan, nan, nan]),\n",
              " array([ 0.,  0.,  0.,  0.,  0.,  0.,  0.,  0.,  0.,  0.,  0.,  0.,  0.,\n",
              "         0., nan, nan, nan, nan]),\n",
              " array([ 0.,  0.,  1.,  0.,  0.,  0.,  0.,  0.,  0.,  0.,  0.,  1.,  0.,\n",
              "         0., nan, nan, nan, nan]),\n",
              " array([ 0.,  0.,  0.,  0.,  0.,  0.,  0.,  0.,  0.,  0.,  0.,  0.,  0.,\n",
              "         0., nan, nan, nan, nan]),\n",
              " array([ 0.,  0.,  0.,  0.,  0.,  0.,  0.,  0.,  0.,  0.,  0.,  0.,  0.,\n",
              "         0., nan, nan, nan, nan]),\n",
              " array([ 1.,  1.,  0.,  0.,  0.,  0.,  0.,  0.,  0.,  0.,  0.,  0.,  0.,\n",
              "         0., nan, nan, nan, nan]),\n",
              " array([ 0.,  0.,  0.,  0.,  0.,  0.,  0.,  0.,  0.,  0.,  0.,  0.,  0.,\n",
              "         0., nan, nan, nan, nan]),\n",
              " array([ 0.,  0.,  0.,  0.,  0.,  0.,  0.,  0.,  0.,  0.,  1.,  0.,  0.,\n",
              "         0., nan, nan, nan, nan]),\n",
              " array([ 0.,  1.,  0.,  0.,  0.,  0.,  0.,  0.,  0.,  0.,  0.,  1.,  0.,\n",
              "         0., nan, nan, nan, nan]),\n",
              " array([ 0.,  0.,  0.,  0.,  0.,  0.,  0.,  0.,  0.,  0.,  1.,  0.,  0.,\n",
              "         0., nan, nan, nan, nan]),\n",
              " array([ 0.,  0.,  0.,  0.,  0.,  0.,  0.,  0.,  0.,  0.,  0.,  0.,  0.,\n",
              "         0., nan, nan, nan, nan]),\n",
              " array([ 0.,  0.,  0.,  0.,  0.,  0.,  0.,  0.,  0.,  0.,  0.,  0.,  0.,\n",
              "         0., nan, nan, nan, nan]),\n",
              " array([ 0.,  0.,  0.,  0.,  0.,  0.,  0.,  0.,  0.,  0.,  0.,  0.,  0.,\n",
              "         0., nan, nan, nan, nan]),\n",
              " array([ 0.,  0.,  0.,  0.,  0.,  0.,  0.,  0.,  0.,  0.,  0.,  0.,  0.,\n",
              "         0., nan, nan, nan, nan]),\n",
              " array([ 0.,  0.,  0.,  0.,  0.,  1.,  0.,  0.,  0.,  0.,  0.,  0.,  0.,\n",
              "         0., nan, nan, nan, nan]),\n",
              " array([ 0.,  0.,  0.,  0.,  0.,  0.,  0.,  0.,  0.,  0.,  0.,  0.,  0.,\n",
              "         0., nan, nan, nan, nan]),\n",
              " array([ 0.,  0.,  0.,  0.,  0.,  0.,  0.,  0.,  0.,  0.,  0.,  0.,  0.,\n",
              "         0., nan, nan, nan, nan]),\n",
              " array([ 0.,  0.,  0.,  0.,  0.,  0.,  0.,  0.,  0.,  0.,  0.,  0.,  0.,\n",
              "         0., nan, nan, nan, nan]),\n",
              " array([ 0.,  0.,  0.,  0.,  0.,  0.,  0.,  0.,  0.,  0.,  0.,  0.,  0.,\n",
              "         0., nan, nan, nan, nan]),\n",
              " array([ 0.,  0.,  0.,  0.,  0.,  0.,  0.,  0.,  0.,  0.,  0.,  1.,  0.,\n",
              "         0., nan, nan, nan, nan]),\n",
              " array([ 0.,  0.,  1.,  0.,  0.,  0.,  0.,  0.,  0.,  0.,  0.,  0.,  0.,\n",
              "         0., nan, nan, nan, nan]),\n",
              " array([ 0.,  0.,  1.,  0.,  0.,  0.,  0.,  0.,  0.,  0.,  0.,  0.,  0.,\n",
              "         0., nan, nan, nan, nan]),\n",
              " array([ 0.,  0.,  0.,  0.,  0.,  0.,  0.,  0.,  0.,  0.,  0.,  0.,  0.,\n",
              "         0., nan, nan, nan, nan]),\n",
              " array([ 0.,  0.,  0.,  0.,  0.,  0.,  0.,  0.,  0.,  0.,  0.,  0.,  0.,\n",
              "         0., nan, nan, nan, nan]),\n",
              " array([ 0.,  0.,  0.,  0.,  0.,  0.,  0.,  0.,  0.,  0.,  0.,  0.,  0.,\n",
              "         0., nan, nan, nan, nan]),\n",
              " array([ 0.,  0.,  0.,  0.,  0.,  0.,  0.,  0.,  0.,  0.,  0.,  0.,  0.,\n",
              "         0., nan, nan, nan, nan]),\n",
              " array([ 0.,  0.,  0.,  0.,  0.,  0.,  0.,  0.,  0.,  0.,  0.,  0.,  0.,\n",
              "         0., nan, nan, nan, nan]),\n",
              " array([ 0.,  0.,  0.,  0.,  0.,  0.,  0.,  0.,  0.,  0.,  0.,  0.,  0.,\n",
              "         0., nan, nan, nan, nan]),\n",
              " array([ 0.,  0.,  0.,  0.,  0.,  0.,  0.,  0.,  0.,  0.,  0.,  0.,  0.,\n",
              "         0., nan, nan, nan, nan]),\n",
              " array([ 0.,  0.,  0.,  0.,  0.,  0.,  0.,  0.,  0.,  0.,  0.,  0.,  0.,\n",
              "         0., nan, nan, nan, nan]),\n",
              " array([ 0.,  0.,  0.,  0.,  0.,  0.,  0.,  0.,  0.,  0.,  0.,  0.,  0.,\n",
              "         0., nan, nan, nan, nan]),\n",
              " array([ 0.,  0.,  0.,  0.,  0.,  0.,  0.,  0.,  0.,  0.,  0.,  0.,  0.,\n",
              "         0., nan, nan, nan, nan]),\n",
              " array([ 0.,  0.,  0.,  0.,  0.,  0.,  0.,  0.,  0.,  0.,  0.,  0.,  0.,\n",
              "         0., nan, nan, nan, nan]),\n",
              " array([ 0.,  0.,  1.,  0.,  0.,  0.,  0.,  0.,  0.,  0.,  0.,  0.,  0.,\n",
              "         0., nan, nan, nan, nan]),\n",
              " array([ 0.,  0.,  0.,  0.,  0.,  0.,  0.,  0.,  0.,  0.,  0.,  0.,  0.,\n",
              "         0., nan, nan, nan, nan]),\n",
              " array([ 0.,  0.,  0.,  0.,  0.,  0.,  0.,  0.,  0.,  0.,  0.,  0.,  0.,\n",
              "         0., nan, nan, nan, nan]),\n",
              " array([ 0.,  0.,  0.,  0.,  0.,  0.,  0.,  0.,  0.,  0.,  0.,  0.,  0.,\n",
              "         0., nan, nan, nan, nan]),\n",
              " array([ 0.,  0.,  1.,  0.,  0.,  0.,  0.,  0.,  0.,  0.,  0.,  0.,  0.,\n",
              "         0., nan, nan, nan, nan]),\n",
              " array([ 0.,  0.,  0.,  0.,  0.,  0.,  0.,  0.,  0.,  0.,  0.,  1.,  0.,\n",
              "         0., nan, nan, nan, nan]),\n",
              " array([ 0.,  0.,  0.,  0.,  0.,  0.,  0.,  0.,  0.,  0.,  0.,  0.,  0.,\n",
              "         0., nan, nan, nan, nan]),\n",
              " array([ 0.,  0.,  0.,  0.,  0.,  0.,  0.,  0.,  0.,  0.,  0.,  0.,  0.,\n",
              "         0., nan, nan, nan, nan]),\n",
              " array([ 0.,  0.,  0.,  0.,  0.,  0.,  0.,  0.,  0.,  0.,  0.,  0.,  0.,\n",
              "         0., nan, nan, nan, nan]),\n",
              " array([ 0.,  0.,  0.,  0.,  0.,  0.,  0.,  0.,  0.,  0.,  0.,  0.,  0.,\n",
              "         0., nan, nan, nan, nan]),\n",
              " array([ 0.,  0.,  0.,  0.,  0.,  0.,  0.,  0.,  0.,  0.,  0.,  0.,  0.,\n",
              "         0., nan, nan, nan, nan]),\n",
              " array([ 0.,  0.,  0.,  0.,  0.,  0.,  0.,  0.,  0.,  0.,  0.,  0.,  0.,\n",
              "         0., nan, nan, nan, nan]),\n",
              " array([ 0.,  0.,  0.,  0.,  0.,  0.,  0.,  0.,  0.,  0.,  0.,  0.,  0.,\n",
              "         0., nan, nan, nan, nan]),\n",
              " array([ 0.,  0.,  0.,  0.,  0.,  0.,  0.,  0.,  0.,  0.,  0.,  0.,  0.,\n",
              "         0., nan, nan, nan, nan]),\n",
              " array([ 0.,  0.,  1.,  0.,  0.,  0.,  0.,  0.,  0.,  0.,  0.,  0.,  0.,\n",
              "         0., nan, nan, nan, nan]),\n",
              " array([ 1.,  0.,  0.,  0.,  0.,  0.,  0.,  0.,  0.,  0.,  0.,  0.,  0.,\n",
              "         0., nan, nan, nan, nan]),\n",
              " array([ 0.,  0.,  0.,  0.,  0.,  0.,  0.,  0.,  0.,  0.,  0.,  0.,  0.,\n",
              "         0., nan, nan, nan, nan]),\n",
              " array([ 0.,  0.,  0.,  0.,  0.,  0.,  0.,  0.,  0.,  0.,  0.,  0.,  0.,\n",
              "         0., nan, nan, nan, nan]),\n",
              " array([ 0.,  0.,  0.,  0.,  0.,  0.,  0.,  0.,  0.,  0.,  0.,  0.,  0.,\n",
              "         0., nan, nan, nan, nan]),\n",
              " array([ 0.,  0.,  0.,  0.,  0.,  0.,  0.,  0.,  0.,  0.,  0.,  0.,  0.,\n",
              "         0., nan, nan, nan, nan]),\n",
              " array([ 0.,  0.,  0.,  0.,  0.,  0.,  0.,  0.,  0.,  0.,  0.,  0.,  0.,\n",
              "         0., nan, nan, nan, nan]),\n",
              " array([ 0.,  0.,  0.,  0.,  0.,  0.,  0.,  0.,  0.,  0.,  0.,  0.,  0.,\n",
              "         0., nan, nan, nan, nan]),\n",
              " array([ 0.,  0.,  0.,  0.,  0.,  0.,  0.,  0.,  0.,  0.,  0.,  0.,  0.,\n",
              "         0., nan, nan, nan, nan]),\n",
              " array([ 0.,  0.,  0.,  0.,  0.,  0.,  0.,  0.,  0.,  0.,  0.,  0.,  0.,\n",
              "         0., nan, nan, nan, nan]),\n",
              " array([ 0.,  0.,  0.,  0.,  0.,  0.,  0.,  0.,  0.,  0.,  0.,  0.,  0.,\n",
              "         0., nan, nan, nan, nan]),\n",
              " array([ 0.,  0.,  0.,  0.,  0.,  0.,  0.,  0.,  0.,  0.,  0.,  0.,  0.,\n",
              "         0., nan, nan, nan, nan]),\n",
              " array([ 0.,  0.,  0.,  0.,  0.,  0.,  0.,  0.,  0.,  0.,  0.,  0.,  0.,\n",
              "         0., nan, nan, nan, nan]),\n",
              " array([ 0.,  0.,  1.,  0.,  0.,  0.,  0.,  0.,  0.,  0.,  0.,  0.,  0.,\n",
              "         0., nan, nan, nan, nan]),\n",
              " array([ 0.,  0.,  0.,  0.,  0.,  0.,  0.,  0.,  0.,  0.,  0.,  0.,  0.,\n",
              "         0., nan, nan, nan, nan]),\n",
              " array([ 0.,  0.,  0.,  0.,  0.,  0.,  0.,  0.,  0.,  0.,  0.,  0.,  0.,\n",
              "         0., nan, nan, nan, nan]),\n",
              " array([ 0.,  0.,  0.,  0.,  0.,  0.,  0.,  0.,  0.,  0.,  0.,  0.,  0.,\n",
              "         0., nan, nan, nan, nan]),\n",
              " array([ 0.,  0.,  0.,  0.,  0.,  0.,  0.,  0.,  0.,  0.,  0.,  0.,  0.,\n",
              "         0., nan, nan, nan, nan]),\n",
              " array([ 1.,  0.,  1.,  0.,  0.,  0.,  0.,  0.,  0.,  0.,  0.,  0.,  1.,\n",
              "         0., nan, nan, nan, nan]),\n",
              " array([ 0.,  0.,  0.,  0.,  0.,  0.,  0.,  0.,  0.,  0.,  0.,  0.,  0.,\n",
              "         0., nan, nan, nan, nan]),\n",
              " array([ 0.,  0.,  0.,  0.,  0.,  0.,  0.,  0.,  0.,  0.,  0.,  0.,  0.,\n",
              "         0., nan, nan, nan, nan]),\n",
              " array([ 0.,  0.,  0.,  0.,  0.,  1.,  0.,  0.,  0.,  0.,  0.,  0.,  0.,\n",
              "         0., nan, nan, nan, nan]),\n",
              " array([ 0.,  0.,  1.,  0.,  0.,  0.,  0.,  0.,  0.,  0.,  0.,  0.,  0.,\n",
              "         0., nan, nan, nan, nan]),\n",
              " array([ 0.,  0.,  0.,  0.,  0.,  0.,  0.,  0.,  0.,  0.,  0.,  0.,  0.,\n",
              "         0., nan, nan, nan, nan]),\n",
              " array([ 0.,  0.,  0.,  0.,  0.,  0.,  0.,  0.,  0.,  0.,  0.,  0.,  0.,\n",
              "         0., nan, nan, nan, nan]),\n",
              " array([ 0.,  0.,  0.,  0.,  0.,  0.,  0.,  0.,  0.,  0.,  0.,  0.,  0.,\n",
              "         0., nan, nan, nan, nan]),\n",
              " array([ 0.,  0.,  0.,  0.,  0.,  0.,  0.,  0.,  0.,  0.,  0.,  0.,  0.,\n",
              "         0., nan, nan, nan, nan]),\n",
              " array([ 0.,  0.,  0.,  0.,  0.,  0.,  0.,  0.,  0.,  0.,  0.,  0.,  0.,\n",
              "         0., nan, nan, nan, nan]),\n",
              " array([ 0.,  0.,  1.,  0.,  0.,  0.,  0.,  0.,  0.,  0.,  0.,  0.,  0.,\n",
              "         0., nan, nan, nan, nan]),\n",
              " array([ 0.,  0.,  0.,  0.,  0.,  0.,  0.,  0.,  0.,  0.,  1.,  0.,  0.,\n",
              "         0., nan, nan, nan, nan]),\n",
              " array([ 0.,  0.,  0.,  0.,  0.,  0.,  0.,  0.,  0.,  0.,  0.,  0.,  0.,\n",
              "         0., nan, nan, nan, nan]),\n",
              " array([ 0.,  0.,  0.,  0.,  0.,  0.,  0.,  1.,  0.,  0.,  0.,  0.,  0.,\n",
              "         0., nan, nan, nan, nan]),\n",
              " array([ 0.,  0.,  0.,  0.,  0.,  0.,  0.,  0.,  0.,  0.,  0.,  0.,  0.,\n",
              "         0., nan, nan, nan, nan]),\n",
              " array([ 0.,  0.,  0.,  0.,  0.,  0.,  0.,  0.,  0.,  0.,  0.,  0.,  0.,\n",
              "         0., nan, nan, nan, nan]),\n",
              " array([ 0.,  0.,  0.,  0.,  0.,  0.,  0.,  1.,  0.,  0.,  0.,  0.,  0.,\n",
              "         0., nan, nan, nan, nan]),\n",
              " array([ 0.,  0.,  0.,  0.,  0.,  0.,  0.,  0.,  0.,  0.,  0.,  0.,  0.,\n",
              "         0., nan, nan, nan, nan]),\n",
              " array([ 0.,  0.,  1.,  0.,  0.,  0.,  0.,  0.,  0.,  0.,  0.,  0.,  0.,\n",
              "         0., nan, nan, nan, nan]),\n",
              " array([ 0.,  0.,  0.,  0.,  0.,  0.,  0.,  0.,  0.,  0.,  0.,  0.,  0.,\n",
              "         0., nan, nan, nan, nan]),\n",
              " array([ 0.,  0.,  0.,  0.,  0.,  0.,  0.,  0.,  0.,  0.,  0.,  0.,  0.,\n",
              "         0., nan, nan, nan, nan]),\n",
              " array([ 0.,  0.,  0.,  0.,  0.,  0.,  0.,  0.,  0.,  0.,  0.,  0.,  0.,\n",
              "         0., nan, nan, nan, nan]),\n",
              " array([ 0.,  0.,  0.,  0.,  0.,  0.,  0.,  0.,  0.,  0.,  0.,  0.,  0.,\n",
              "         0., nan, nan, nan, nan]),\n",
              " array([ 0.,  0.,  0.,  0.,  0.,  0.,  0.,  0.,  0.,  0.,  0.,  0.,  0.,\n",
              "         0., nan, nan, nan, nan]),\n",
              " array([ 0.,  0.,  0.,  0.,  0.,  0.,  0.,  0.,  0.,  0.,  0.,  0.,  0.,\n",
              "         0., nan, nan, nan, nan]),\n",
              " array([ 0.,  0.,  0.,  0.,  0.,  0.,  0.,  0.,  0.,  0.,  0.,  0.,  0.,\n",
              "         0., nan, nan, nan, nan]),\n",
              " array([ 0.,  0.,  0.,  0.,  0.,  0.,  0.,  0.,  0.,  0.,  0.,  0.,  0.,\n",
              "         0., nan, nan, nan, nan]),\n",
              " array([ 0.,  0.,  0.,  0.,  0.,  0.,  0.,  0.,  0.,  0.,  0.,  0.,  0.,\n",
              "         0., nan, nan, nan, nan]),\n",
              " array([ 0.,  0.,  0.,  0.,  0.,  0.,  0.,  0.,  0.,  0.,  0.,  0.,  0.,\n",
              "         0., nan, nan, nan, nan]),\n",
              " array([ 1.,  0.,  0.,  0.,  0.,  0.,  0.,  0.,  0.,  0.,  0.,  0.,  0.,\n",
              "         0., nan, nan, nan, nan]),\n",
              " array([ 0.,  0.,  0.,  0.,  0.,  0.,  0.,  0.,  0.,  0.,  0.,  1.,  1.,\n",
              "         0., nan, nan, nan, nan]),\n",
              " array([ 0.,  0.,  0.,  0.,  0.,  0.,  0.,  0.,  0.,  0.,  0.,  0.,  0.,\n",
              "         0., nan, nan, nan, nan]),\n",
              " array([ 0.,  0.,  0.,  0.,  0.,  0.,  0.,  1.,  0.,  1.,  0.,  0.,  1.,\n",
              "         0., nan, nan, nan, nan]),\n",
              " array([ 1.,  0.,  0.,  0.,  0.,  0.,  0.,  0.,  0.,  0.,  0.,  1.,  0.,\n",
              "         0., nan, nan, nan, nan]),\n",
              " array([ 0.,  0.,  0.,  0.,  0.,  0.,  0.,  0.,  0.,  0.,  0.,  0.,  0.,\n",
              "         0., nan, nan, nan, nan]),\n",
              " array([ 0.,  0.,  0.,  0.,  0.,  0.,  0.,  0.,  0.,  0.,  0.,  0.,  0.,\n",
              "         0., nan, nan, nan, nan]),\n",
              " array([ 0.,  0.,  0.,  0.,  0.,  0.,  0.,  0.,  0.,  0.,  0.,  1.,  0.,\n",
              "         0., nan, nan, nan, nan]),\n",
              " array([ 0.,  0.,  0.,  0.,  0.,  0.,  0.,  0.,  0.,  0.,  0.,  0.,  0.,\n",
              "         0., nan, nan, nan, nan]),\n",
              " array([ 0.,  0.,  0.,  0.,  0.,  0.,  0.,  0.,  0.,  0.,  0.,  0.,  0.,\n",
              "         0., nan, nan, nan, nan]),\n",
              " array([ 0.,  0.,  0.,  0.,  0.,  0.,  0.,  0.,  0.,  0.,  0.,  0.,  0.,\n",
              "         0., nan, nan, nan, nan]),\n",
              " array([ 0.,  0.,  0.,  0.,  0.,  0.,  0.,  0.,  0.,  0.,  0.,  0.,  0.,\n",
              "         0., nan, nan, nan, nan]),\n",
              " array([ 0.,  0.,  0.,  0.,  0.,  0.,  0.,  0.,  0.,  1.,  0.,  0.,  1.,\n",
              "         0., nan, nan, nan, nan]),\n",
              " array([ 0.,  0.,  0.,  0.,  0.,  0.,  1.,  0.,  0.,  0.,  0.,  0.,  0.,\n",
              "         0., nan, nan, nan, nan]),\n",
              " array([ 0.,  0.,  0.,  0.,  0.,  0.,  0.,  1.,  0.,  0.,  0.,  0.,  0.,\n",
              "         0., nan, nan, nan, nan]),\n",
              " array([ 0.,  0.,  1.,  0.,  0.,  0.,  0.,  0.,  0.,  0.,  0.,  0.,  0.,\n",
              "         0., nan, nan, nan, nan]),\n",
              " array([ 0.,  0.,  0.,  0.,  0.,  0.,  0.,  0.,  0.,  0.,  0.,  0.,  0.,\n",
              "         0., nan, nan, nan, nan]),\n",
              " array([ 0.,  0.,  0.,  0.,  0.,  0.,  0.,  0.,  0.,  0.,  0.,  0.,  0.,\n",
              "         0., nan, nan, nan, nan]),\n",
              " array([ 0.,  0.,  0.,  0.,  0.,  0.,  0.,  0.,  0.,  0.,  0.,  0.,  0.,\n",
              "         0., nan, nan, nan, nan]),\n",
              " array([ 0.,  0.,  0.,  0.,  0.,  0.,  0.,  0.,  0.,  0.,  0.,  1.,  0.,\n",
              "         0., nan, nan, nan, nan]),\n",
              " array([ 0.,  0.,  0.,  0.,  0.,  0.,  0.,  0.,  0.,  0.,  0.,  0.,  0.,\n",
              "         0., nan, nan, nan, nan]),\n",
              " array([ 0.,  0.,  0.,  0.,  0.,  0.,  0.,  0.,  0.,  0.,  0.,  0.,  0.,\n",
              "         0., nan, nan, nan, nan]),\n",
              " array([ 0.,  0.,  0.,  0.,  0.,  0.,  0.,  0.,  0.,  0.,  0.,  0.,  0.,\n",
              "         0., nan, nan, nan, nan]),\n",
              " array([ 0.,  0.,  0.,  0.,  0.,  0.,  0.,  0.,  0.,  0.,  0.,  0.,  0.,\n",
              "         0., nan, nan, nan, nan]),\n",
              " array([ 0.,  0.,  0.,  0.,  0.,  0.,  0.,  0.,  0.,  0.,  0.,  0.,  0.,\n",
              "         0., nan, nan, nan, nan]),\n",
              " array([ 0.,  0.,  0.,  0.,  0.,  0.,  0.,  0.,  0.,  0.,  0.,  0.,  0.,\n",
              "         0., nan, nan, nan, nan]),\n",
              " array([ 0.,  0.,  0.,  0.,  0.,  0.,  0.,  0.,  0.,  0.,  0.,  0.,  0.,\n",
              "         0., nan, nan, nan, nan]),\n",
              " array([ 0.,  0.,  0.,  0.,  0.,  0.,  0.,  0.,  0.,  0.,  0.,  0.,  0.,\n",
              "         0., nan, nan, nan, nan]),\n",
              " array([ 0.,  0.,  0.,  0.,  0.,  0.,  0.,  0.,  0.,  0.,  0.,  0.,  0.,\n",
              "         0., nan, nan, nan, nan]),\n",
              " array([ 0.,  0.,  0.,  0.,  0.,  0.,  1.,  0.,  0.,  0.,  0.,  0.,  0.,\n",
              "         0., nan, nan, nan, nan]),\n",
              " array([ 0.,  0.,  0.,  0.,  0.,  0.,  0.,  0.,  0.,  0.,  0.,  0.,  0.,\n",
              "         0., nan, nan, nan, nan]),\n",
              " array([ 0.,  0.,  0.,  0.,  0.,  0.,  0.,  0.,  0.,  0.,  0.,  0.,  0.,\n",
              "         0., nan, nan, nan, nan]),\n",
              " array([ 0.,  0.,  0.,  0.,  0.,  0.,  0.,  0.,  0.,  0.,  0.,  0.,  0.,\n",
              "         0., nan, nan, nan, nan]),\n",
              " array([ 0.,  0.,  0.,  0.,  0.,  0.,  0.,  0.,  0.,  0.,  0.,  0.,  0.,\n",
              "         0., nan, nan, nan, nan]),\n",
              " array([ 0.,  0.,  0.,  0.,  0.,  0.,  0.,  0.,  0.,  0.,  0.,  0.,  0.,\n",
              "         0., nan, nan, nan, nan]),\n",
              " array([ 0.,  0.,  0.,  0.,  0.,  0.,  0.,  0.,  0.,  0.,  0.,  0.,  0.,\n",
              "         0., nan, nan, nan, nan]),\n",
              " array([ 0.,  0.,  0.,  0.,  0.,  0.,  0.,  0.,  0.,  0.,  0.,  0.,  0.,\n",
              "         0., nan, nan, nan, nan]),\n",
              " array([ 0.,  0.,  0.,  0.,  0.,  0.,  0.,  0.,  0.,  0.,  0.,  0.,  0.,\n",
              "         0., nan, nan, nan, nan]),\n",
              " array([ 0.,  0.,  0.,  0.,  0.,  0.,  0.,  0.,  0.,  0.,  0.,  0.,  0.,\n",
              "         0., nan, nan, nan, nan]),\n",
              " array([ 0.,  0.,  0.,  0.,  0.,  0.,  0.,  0.,  0.,  0.,  0.,  0.,  0.,\n",
              "         0., nan, nan, nan, nan]),\n",
              " array([ 0.,  0.,  0.,  0.,  0.,  0.,  0.,  0.,  0.,  0.,  0.,  0.,  0.,\n",
              "         0., nan, nan, nan, nan]),\n",
              " array([ 0.,  0.,  0.,  0.,  0.,  0.,  0.,  0.,  0.,  0.,  0.,  0.,  0.,\n",
              "         0., nan, nan, nan, nan]),\n",
              " array([ 0.,  0.,  0.,  0.,  0.,  0.,  0.,  0.,  0.,  0.,  0.,  0.,  0.,\n",
              "         0., nan, nan, nan, nan]),\n",
              " array([ 0.,  0.,  0.,  0.,  0.,  0.,  0.,  0.,  0.,  0.,  0.,  0.,  0.,\n",
              "         0., nan, nan, nan, nan]),\n",
              " array([ 0.,  0.,  0.,  0.,  0.,  0.,  0.,  0.,  0.,  0.,  0.,  1.,  1.,\n",
              "         0., nan, nan, nan, nan]),\n",
              " array([ 0.,  0.,  0.,  0.,  0.,  0.,  0.,  0.,  0.,  0.,  0.,  0.,  0.,\n",
              "         0., nan, nan, nan, nan]),\n",
              " array([ 0.,  0.,  0.,  0.,  0.,  0.,  0.,  0.,  0.,  0.,  0.,  0.,  0.,\n",
              "         0., nan, nan, nan, nan]),\n",
              " array([ 0.,  0.,  0.,  0.,  0.,  0.,  0.,  0.,  0.,  0.,  0.,  0.,  0.,\n",
              "         0., nan, nan, nan, nan]),\n",
              " array([ 0.,  0.,  0.,  0.,  0.,  0.,  0.,  0.,  0.,  0.,  0.,  0.,  0.,\n",
              "         0., nan, nan, nan, nan]),\n",
              " array([ 0.,  0.,  1.,  0.,  0.,  0.,  0.,  0.,  0.,  0.,  0.,  0.,  0.,\n",
              "         0., nan, nan, nan, nan]),\n",
              " array([ 0.,  0.,  0.,  0.,  0.,  0.,  0.,  0.,  0.,  0.,  0.,  0.,  0.,\n",
              "         0., nan, nan, nan, nan]),\n",
              " array([ 0.,  0.,  0.,  0.,  0.,  0.,  0.,  0.,  0.,  0.,  0.,  0.,  0.,\n",
              "         0., nan, nan, nan, nan]),\n",
              " array([ 0.,  0.,  0.,  0.,  0.,  0.,  0.,  1.,  0.,  0.,  0.,  0.,  0.,\n",
              "         0., nan, nan, nan, nan]),\n",
              " array([ 0.,  0.,  0.,  0.,  0.,  0.,  0.,  0.,  0.,  0.,  0.,  0.,  0.,\n",
              "         0., nan, nan, nan, nan]),\n",
              " array([ 0.,  0.,  0.,  0.,  0.,  0.,  0.,  0.,  0.,  0.,  0.,  0.,  0.,\n",
              "         0., nan, nan, nan, nan]),\n",
              " array([ 0.,  0.,  0.,  0.,  0.,  0.,  0.,  0.,  0.,  0.,  0.,  0.,  0.,\n",
              "         0., nan, nan, nan, nan]),\n",
              " array([ 0.,  0.,  0.,  0.,  0.,  0.,  0.,  0.,  0.,  0.,  0.,  0.,  0.,\n",
              "         0., nan, nan, nan, nan]),\n",
              " array([ 0.,  0.,  0.,  0.,  0.,  0.,  0.,  0.,  0.,  0.,  0.,  0.,  0.,\n",
              "         0., nan, nan, nan, nan]),\n",
              " array([ 0.,  0.,  0.,  0.,  0.,  0.,  0.,  0.,  0.,  0.,  0.,  0.,  0.,\n",
              "         0., nan, nan, nan, nan]),\n",
              " array([ 0.,  0.,  0.,  0.,  0.,  0.,  0.,  0.,  0.,  0.,  0.,  0.,  0.,\n",
              "         0., nan, nan, nan, nan]),\n",
              " array([ 0.,  0.,  0.,  0.,  0.,  0.,  0.,  0.,  0.,  0.,  0.,  0.,  0.,\n",
              "         0., nan, nan, nan, nan]),\n",
              " array([ 0.,  0.,  0.,  0.,  0.,  0.,  0.,  0.,  0.,  0.,  0.,  0.,  0.,\n",
              "         0., nan, nan, nan, nan]),\n",
              " array([ 0.,  0.,  0.,  0.,  0.,  0.,  0.,  0.,  0.,  0.,  0.,  0.,  0.,\n",
              "         0., nan, nan, nan, nan]),\n",
              " array([ 0.,  0.,  0.,  0.,  0.,  0.,  0.,  0.,  0.,  0.,  0.,  0.,  0.,\n",
              "         0., nan, nan, nan, nan]),\n",
              " array([ 0.,  0.,  0.,  0.,  0.,  0.,  0.,  1.,  0.,  0.,  0.,  0.,  0.,\n",
              "         0., nan, nan, nan, nan]),\n",
              " array([ 0.,  0.,  0.,  0.,  0.,  0.,  0.,  0.,  0.,  0.,  0.,  0.,  0.,\n",
              "         0., nan, nan, nan, nan]),\n",
              " array([ 0.,  0.,  0.,  0.,  0.,  0.,  0.,  0.,  0.,  0.,  0.,  0.,  0.,\n",
              "         0., nan, nan, nan, nan]),\n",
              " array([ 0.,  0.,  0.,  0.,  0.,  0.,  1.,  0.,  0.,  0.,  0.,  0.,  0.,\n",
              "         0., nan, nan, nan, nan]),\n",
              " array([ 0.,  0.,  0.,  0.,  0.,  0.,  0.,  0.,  0.,  0.,  0.,  0.,  0.,\n",
              "         0., nan, nan, nan, nan]),\n",
              " array([ 0.,  0.,  0.,  0.,  0.,  0.,  0.,  0.,  0.,  0.,  0.,  0.,  0.,\n",
              "         0., nan, nan, nan, nan]),\n",
              " array([ 0.,  0.,  0.,  0.,  0.,  0.,  0.,  0.,  0.,  0.,  0.,  0.,  0.,\n",
              "         0., nan, nan, nan, nan]),\n",
              " array([ 0.,  0.,  0.,  0.,  0.,  0.,  0.,  0.,  0.,  0.,  0.,  0.,  0.,\n",
              "         0., nan, nan, nan, nan]),\n",
              " array([ 0.,  0.,  0.,  0.,  0.,  0.,  0.,  0.,  0.,  0.,  0.,  0.,  0.,\n",
              "         0., nan, nan, nan, nan]),\n",
              " array([ 0.,  0.,  1.,  0.,  0.,  0.,  0.,  0.,  0.,  0.,  0.,  0.,  0.,\n",
              "         0., nan, nan, nan, nan]),\n",
              " array([ 1.,  0.,  0.,  0.,  0.,  0.,  1.,  0.,  0.,  0.,  0.,  0.,  0.,\n",
              "         0., nan, nan, nan, nan]),\n",
              " array([ 0.,  0.,  0.,  0.,  0.,  0.,  0.,  0.,  0.,  0.,  0.,  0.,  0.,\n",
              "         0., nan, nan, nan, nan]),\n",
              " array([ 0.,  0.,  0.,  0.,  0.,  0.,  0.,  0.,  0.,  0.,  0.,  0.,  0.,\n",
              "         0., nan, nan, nan, nan]),\n",
              " array([ 0.,  0.,  0.,  0.,  0.,  0.,  0.,  0.,  0.,  0.,  0.,  0.,  0.,\n",
              "         0., nan, nan, nan, nan]),\n",
              " array([ 0.,  0.,  0.,  0.,  0.,  0.,  0.,  0.,  0.,  0.,  0.,  0.,  0.,\n",
              "         0., nan, nan, nan, nan]),\n",
              " array([ 1.,  0.,  0.,  0.,  0.,  0.,  0.,  1.,  0.,  0.,  1.,  0.,  0.,\n",
              "         0., nan, nan, nan, nan]),\n",
              " array([ 0.,  0.,  1.,  0.,  0.,  0.,  0.,  0.,  0.,  0.,  0.,  0.,  0.,\n",
              "         0., nan, nan, nan, nan]),\n",
              " array([ 1.,  0.,  0.,  0.,  0.,  0.,  0.,  0.,  0.,  0.,  0.,  0.,  0.,\n",
              "         0., nan, nan, nan, nan]),\n",
              " array([ 0.,  0.,  0.,  0.,  0.,  0.,  0.,  0.,  0.,  0.,  0.,  0.,  0.,\n",
              "         0., nan, nan, nan, nan]),\n",
              " array([ 0.,  0.,  0.,  0.,  0.,  0.,  0.,  0.,  0.,  0.,  0.,  0.,  0.,\n",
              "         0., nan, nan, nan, nan]),\n",
              " array([ 0.,  0.,  0.,  0.,  0.,  0.,  0.,  0.,  0.,  1.,  0.,  0.,  0.,\n",
              "         0., nan, nan, nan, nan]),\n",
              " array([ 0.,  0.,  1.,  0.,  0.,  0.,  0.,  0.,  0.,  0.,  0.,  0.,  0.,\n",
              "         0., nan, nan, nan, nan]),\n",
              " array([ 0.,  0.,  0.,  0.,  0.,  0.,  0.,  0.,  0.,  0.,  0.,  0.,  0.,\n",
              "         0., nan, nan, nan, nan]),\n",
              " array([ 0.,  0.,  0.,  0.,  0.,  0.,  0.,  0.,  0.,  0.,  0.,  0.,  0.,\n",
              "         0., nan, nan, nan, nan]),\n",
              " array([ 0.,  0.,  0.,  0.,  0.,  0.,  0.,  0.,  0.,  0.,  0.,  0.,  0.,\n",
              "         0., nan, nan, nan, nan]),\n",
              " array([ 0.,  0.,  0.,  0.,  0.,  0.,  0.,  0.,  0.,  0.,  0.,  0.,  0.,\n",
              "         0., nan, nan, nan, nan]),\n",
              " array([ 0.,  0.,  0.,  0.,  0.,  0.,  0.,  0.,  0.,  0.,  0.,  0.,  0.,\n",
              "         0., nan, nan, nan, nan])]"
            ]
          },
          "metadata": {},
          "execution_count": 23
        }
      ]
    },
    {
      "cell_type": "markdown",
      "metadata": {
        "id": "I88gs8NjeoiO"
      },
      "source": [
        "###***confusion matrix***###"
      ]
    },
    {
      "cell_type": "code",
      "source": [
        "y_pred = model.predict(d_nih[i]) "
      ],
      "metadata": {
        "colab": {
          "base_uri": "https://localhost:8080/",
          "height": 288
        },
        "id": "eBAn8zW8fR8M",
        "outputId": "f7148cf9-9862-427d-a0ef-c6f48a3981e3"
      },
      "execution_count": null,
      "outputs": [
        {
          "output_type": "error",
          "ename": "AttributeError",
          "evalue": "ignored",
          "traceback": [
            "\u001b[0;31m---------------------------------------------------------------------------\u001b[0m",
            "\u001b[0;31mAttributeError\u001b[0m                            Traceback (most recent call last)",
            "\u001b[0;32m<ipython-input-25-521b936977d5>\u001b[0m in \u001b[0;36m<module>\u001b[0;34m()\u001b[0m\n\u001b[0;32m----> 1\u001b[0;31m \u001b[0my_pred\u001b[0m \u001b[0;34m=\u001b[0m \u001b[0mmodel\u001b[0m\u001b[0;34m.\u001b[0m\u001b[0mpredict\u001b[0m\u001b[0;34m(\u001b[0m\u001b[0md_nih\u001b[0m\u001b[0;34m[\u001b[0m\u001b[0mi\u001b[0m\u001b[0;34m]\u001b[0m\u001b[0;34m)\u001b[0m\u001b[0;34m\u001b[0m\u001b[0;34m\u001b[0m\u001b[0m\n\u001b[0m",
            "\u001b[0;32m/usr/local/lib/python3.7/dist-packages/torch/nn/modules/module.py\u001b[0m in \u001b[0;36m__getattr__\u001b[0;34m(self, name)\u001b[0m\n\u001b[1;32m   1176\u001b[0m                 \u001b[0;32mreturn\u001b[0m \u001b[0mmodules\u001b[0m\u001b[0;34m[\u001b[0m\u001b[0mname\u001b[0m\u001b[0;34m]\u001b[0m\u001b[0;34m\u001b[0m\u001b[0;34m\u001b[0m\u001b[0m\n\u001b[1;32m   1177\u001b[0m         raise AttributeError(\"'{}' object has no attribute '{}'\".format(\n\u001b[0;32m-> 1178\u001b[0;31m             type(self).__name__, name))\n\u001b[0m\u001b[1;32m   1179\u001b[0m \u001b[0;34m\u001b[0m\u001b[0m\n\u001b[1;32m   1180\u001b[0m     \u001b[0;32mdef\u001b[0m \u001b[0m__setattr__\u001b[0m\u001b[0;34m(\u001b[0m\u001b[0mself\u001b[0m\u001b[0;34m,\u001b[0m \u001b[0mname\u001b[0m\u001b[0;34m:\u001b[0m \u001b[0mstr\u001b[0m\u001b[0;34m,\u001b[0m \u001b[0mvalue\u001b[0m\u001b[0;34m:\u001b[0m \u001b[0mUnion\u001b[0m\u001b[0;34m[\u001b[0m\u001b[0mTensor\u001b[0m\u001b[0;34m,\u001b[0m \u001b[0;34m'Module'\u001b[0m\u001b[0;34m]\u001b[0m\u001b[0;34m)\u001b[0m \u001b[0;34m->\u001b[0m \u001b[0;32mNone\u001b[0m\u001b[0;34m:\u001b[0m\u001b[0;34m\u001b[0m\u001b[0;34m\u001b[0m\u001b[0m\n",
            "\u001b[0;31mAttributeError\u001b[0m: 'DenseNet' object has no attribute 'predict'"
          ]
        }
      ]
    },
    {
      "cell_type": "code",
      "execution_count": null,
      "metadata": {
        "id": "ln8knfQCxLvw"
      },
      "outputs": [],
      "source": [
        "from sklearn.metrics import confusion_matrix\n",
        "import matplotlib.pyplot as plt\n",
        "from mlxtend.plotting import plot_confusion_matrix\n",
        "all_labels=['Atelectasis', 'Cardiomegaly', 'Edema',\t'Effusion',\t'Infiltration',\t'Mass',\t'Nodule', 'Hernia', 'Emphysema', 'Consolidation', 'Pneumothorax', 'Pleural_Thickening','Pneumonia']\n",
        "cm=confusion_matrix(np.argmax(d_nih,axis=1),np.argmax(y_pred,axis=1))\n",
        "print(cm)"
      ]
    },
    {
      "cell_type": "code",
      "source": [
        "all_labels=['Atelectasis', 'Cardiomegaly', 'Edema',\t'Effusion',\t'Infiltration',\t'Mass',\t'Nodule', 'Hernia', 'Emphysema', 'Consolidation', 'Pneumothorax', 'Pleural_Thickening','Pneumonia']\n",
        "sns.heatmap(cm, annot=True,xticklabels=all_labels,yticklabels=all_labels)\n",
        "\n",
        "plt.show()"
      ],
      "metadata": {
        "id": "9HPA59WoYEQP"
      },
      "execution_count": null,
      "outputs": []
    }
  ],
  "metadata": {
    "accelerator": "GPU",
    "colab": {
      "collapsed_sections": [],
      "machine_shape": "hm",
      "name": "Copy of chestxray_code.ipynb",
      "provenance": [],
      "include_colab_link": true
    },
    "kernelspec": {
      "display_name": "Python 3",
      "name": "python3"
    }
  },
  "nbformat": 4,
  "nbformat_minor": 0
}