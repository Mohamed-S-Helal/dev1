{
  "nbformat": 4,
  "nbformat_minor": 0,
  "metadata": {
    "colab": {
      "name": "pytube.ipynb",
      "provenance": [],
      "collapsed_sections": [],
      "include_colab_link": true
    },
    "kernelspec": {
      "name": "python2",
      "display_name": "Python 2"
    }
  },
  "cells": [
    {
      "cell_type": "markdown",
      "metadata": {
        "id": "view-in-github",
        "colab_type": "text"
      },
      "source": [
        "<a href=\"https://colab.research.google.com/github/Mohamed-S-Helal/dev1/blob/main/pytube.ipynb\" target=\"_parent\"><img src=\"https://colab.research.google.com/assets/colab-badge.svg\" alt=\"Open In Colab\"/></a>"
      ]
    },
    {
      "metadata": {
        "id": "dblFyEHvyUV3",
        "colab": {
          "base_uri": "https://localhost:8080/"
        },
        "outputId": "355888ab-d940-4853-bfcc-b7e464fac4f4"
      },
      "cell_type": "code",
      "source": [
        "!pip install pytube"
      ],
      "execution_count": 1,
      "outputs": [
        {
          "output_type": "stream",
          "name": "stdout",
          "text": [
            "Collecting pytube\n",
            "  Downloading pytube-11.0.2-py3-none-any.whl (56 kB)\n",
            "\u001b[?25l\r\u001b[K     |█████▉                          | 10 kB 27.3 MB/s eta 0:00:01\r\u001b[K     |███████████▋                    | 20 kB 32.9 MB/s eta 0:00:01\r\u001b[K     |█████████████████▌              | 30 kB 31.4 MB/s eta 0:00:01\r\u001b[K     |███████████████████████▎        | 40 kB 21.7 MB/s eta 0:00:01\r\u001b[K     |█████████████████████████████▏  | 51 kB 18.3 MB/s eta 0:00:01\r\u001b[K     |████████████████████████████████| 56 kB 4.0 MB/s \n",
            "\u001b[?25hInstalling collected packages: pytube\n",
            "Successfully installed pytube-11.0.2\n"
          ]
        }
      ]
    },
    {
      "metadata": {
        "id": "-wWi2gggyq-G"
      },
      "cell_type": "markdown",
      "source": [
        "https://www.youtube.com/watch?v=bsNWQLzANpI\n",
        "\n",
        "https://stackoverflow.com/questions/40713268/download-youtube-video-using-python-to-a-certain-directory\n",
        "\n",
        "I found out a really cool python module that allows you to download videos from youtube easily. TO install it:\n",
        "\n",
        "`pip install pytube`\n",
        "Now, You can download your video like this -\n",
        "\n",
        "```\n",
        "from pytube import YouTube\n",
        "yt = YouTube(\"https://www.youtube.com/watch?v=n06H7OcPd-g\")\n",
        "yt = yt.get('mp4', '720p')\n",
        "yt.download('/path/to/download/directory')\n",
        "```\n",
        "\n",
        "Boom, Now you can easily scrape such videos using Python easily; Now, We Drink!\n",
        "\n",
        "Update 1:\n",
        "Thanks to @Chiramisu's comment, You can use the following one-liner to download the highest quality video:\n",
        "\n",
        "`YouTube('video_url').streams.first().download('save_path')`"
      ]
    },
    {
      "metadata": {
        "id": "HBQceBOSyWwk",
        "colab": {
          "base_uri": "https://localhost:8080/"
        },
        "outputId": "a7766ac3-8d09-43cf-b6f0-f3b0a2677c92"
      },
      "cell_type": "code",
      "source": [
        "!YouTube(\"https://www.youtube.com/watch?v=fgxzMS7ASF4\").streams.first().download('t2vi')"
      ],
      "execution_count": 2,
      "outputs": [
        {
          "output_type": "stream",
          "name": "stdout",
          "text": [
            "/bin/bash: -c: line 0: syntax error near unexpected token `\"https://www.youtube.com/watch?v=fgxzMS7ASF4\"'\n",
            "/bin/bash: -c: line 0: `YouTube(\"https://www.youtube.com/watch?v=fgxzMS7ASF4\").streams.first().download('t2vi')'\n"
          ]
        }
      ]
    },
    {
      "metadata": {
        "id": "2HZHJZJfzRe7"
      },
      "cell_type": "code",
      "source": [
        "from pytube import YouTube\n",
        "import os\n",
        "\n",
        "def downloadYouTube(videourl, path):\n",
        "\n",
        "    yt = YouTube(videourl)\n",
        "    yt = yt.streams.filter(progressive=True, file_extension='mp4').order_by('resolution').desc().first()\n",
        "    if not os.path.exists(path):\n",
        "        os.makedirs(path)\n",
        "    yt.download(path)"
      ],
      "execution_count": 3,
      "outputs": []
    },
    {
      "metadata": {
        "id": "7tYz0TCizocE"
      },
      "cell_type": "code",
      "source": [
        "downloadYouTube('https://www.youtube.com/watch?v=fgxzMS7ASF4', './content/FindingNemo1')"
      ],
      "execution_count": 4,
      "outputs": []
    },
    {
      "metadata": {
        "id": "olwbAdeEzvBg"
      },
      "cell_type": "code",
      "source": [
        "downloadYouTube('https://www.youtube.com/watch?v=bsNWQLzANpI', 'concoc')"
      ],
      "execution_count": null,
      "outputs": []
    },
    {
      "metadata": {
        "id": "Z94P19ne0HTp"
      },
      "cell_type": "code",
      "source": [
        ""
      ],
      "execution_count": null,
      "outputs": []
    }
  ]
}